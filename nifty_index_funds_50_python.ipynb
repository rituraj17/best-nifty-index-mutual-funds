{
  "nbformat": 4,
  "nbformat_minor": 0,
  "metadata": {
    "colab": {
      "name": "nifty index funds  50 - python",
      "provenance": [],
      "collapsed_sections": [],
      "toc_visible": true,
      "authorship_tag": "ABX9TyNwMnQpZiWYdwgyKALTotQ9",
      "include_colab_link": true
    },
    "kernelspec": {
      "name": "python3",
      "display_name": "Python 3"
    }
  },
  "cells": [
    {
      "cell_type": "markdown",
      "metadata": {
        "id": "view-in-github",
        "colab_type": "text"
      },
      "source": [
        "<a href=\"https://colab.research.google.com/github/rituraj17/best-nifty-index-mutual-funds/blob/master/nifty_index_funds_50_python.ipynb\" target=\"_parent\"><img src=\"https://colab.research.google.com/assets/colab-badge.svg\" alt=\"Open In Colab\"/></a>"
      ]
    },
    {
      "cell_type": "code",
      "metadata": {
        "id": "RuLxWEz2qnJH",
        "colab_type": "code",
        "outputId": "c478abf8-ad12-4c37-ee7c-42e07facfd04",
        "colab": {
          "base_uri": "https://localhost:8080/",
          "height": 34
        }
      },
      "source": [
        "!pip3 install beautifulsoup4"
      ],
      "execution_count": 1,
      "outputs": [
        {
          "output_type": "stream",
          "text": [
            "Requirement already satisfied: beautifulsoup4 in /usr/local/lib/python3.6/dist-packages (4.6.3)\n"
          ],
          "name": "stdout"
        }
      ]
    },
    {
      "cell_type": "code",
      "metadata": {
        "id": "jNskKW47qb45",
        "colab_type": "code",
        "colab": {}
      },
      "source": [
        "import requests\n",
        "from bs4 import BeautifulSoup"
      ],
      "execution_count": 0,
      "outputs": []
    },
    {
      "cell_type": "code",
      "metadata": {
        "id": "QQW3bU8xqh-w",
        "colab_type": "code",
        "colab": {}
      },
      "source": [
        "url_input=\"https://www.fincash.com/l/best-nifty-index-mutual-funds\"\n",
        "html_output=requests.get(url_input)\n",
        "soup = BeautifulSoup(html_output.content, 'html.parser')\n"
      ],
      "execution_count": 0,
      "outputs": []
    },
    {
      "cell_type": "code",
      "metadata": {
        "id": "AGc1CbRIvoZQ",
        "colab_type": "code",
        "colab": {}
      },
      "source": [
        "# print(soup.prettify())"
      ],
      "execution_count": 0,
      "outputs": []
    },
    {
      "cell_type": "code",
      "metadata": {
        "id": "k_gq0FgZwGFB",
        "colab_type": "code",
        "outputId": "d4e17c66-0350-4099-d0c2-0dd786b91089",
        "colab": {
          "base_uri": "https://localhost:8080/",
          "height": 34
        }
      },
      "source": [
        "# TO find the title of the page \n",
        "soup.find(\"title\").text"
      ],
      "execution_count": 5,
      "outputs": [
        {
          "output_type": "execute_result",
          "data": {
            "text/plain": [
              "'Top 10 Best Performing Nifty Index Mutual Funds 2020 | Fincash.com'"
            ]
          },
          "metadata": {
            "tags": []
          },
          "execution_count": 5
        }
      ]
    },
    {
      "cell_type": "code",
      "metadata": {
        "id": "xIwm-TV8HmSR",
        "colab_type": "code",
        "outputId": "a3725827-ef1f-43fc-db54-fd6717d38527",
        "colab": {
          "base_uri": "https://localhost:8080/",
          "height": 34
        }
      },
      "source": [
        "# method to extract the  heading of list or index of the points\n",
        "(soup.find(\"div\",class_=\"fund-grid-container dashed ng-star-inserted\")).find(\"h3\").text"
      ],
      "execution_count": 7,
      "outputs": [
        {
          "output_type": "execute_result",
          "data": {
            "text/plain": [
              "'1. Principal Nifty 100 Equal Weight Fund'"
            ]
          },
          "metadata": {
            "tags": []
          },
          "execution_count": 7
        }
      ]
    },
    {
      "cell_type": "code",
      "metadata": {
        "id": "pRh4QKa82KSR",
        "colab_type": "code",
        "outputId": "76c4490f-133d-40e6-dff0-b95d2967a9c5",
        "colab": {
          "base_uri": "https://localhost:8080/",
          "height": 54
        }
      },
      "source": [
        "# Description of the points \n",
        "(soup.find(\"div\",class_=\"fund-grid-container dashed ng-star-inserted\")).find(\"p\", class_=\"bq-class\").text"
      ],
      "execution_count": 8,
      "outputs": [
        {
          "output_type": "execute_result",
          "data": {
            "text/plain": [
              "' Principal Nifty 100 Equal Weight Fund is a Others - Index Fund fund was launched on 27 Jul 99. It is a fund with Moderately High risk and has given a CAGR/Annualized return of  since its launch. \\xa0Ranked 72 in Index Fund category.  \\xa0Return for 2019 was 2.8% , 2018 was -3.4% and 2017 was 28.9% . '"
            ]
          },
          "metadata": {
            "tags": []
          },
          "execution_count": 8
        }
      ]
    },
    {
      "cell_type": "code",
      "metadata": {
        "id": "NDpmsMp634Os",
        "colab_type": "code",
        "outputId": "416c2407-063a-4870-dd7a-5668c68ba154",
        "colab": {
          "base_uri": "https://localhost:8080/",
          "height": 34
        }
      },
      "source": [
        "(soup.find(\"div\",class_=\"fund-grid-container dashed ng-star-inserted\")).find(\"p\", class_=\"light-bold\").text"
      ],
      "execution_count": 9,
      "outputs": [
        {
          "output_type": "execute_result",
          "data": {
            "text/plain": [
              "' Below is the key information for Principal Nifty 100 Equal Weight Fund '"
            ]
          },
          "metadata": {
            "tags": []
          },
          "execution_count": 9
        }
      ]
    },
    {
      "cell_type": "code",
      "metadata": {
        "id": "RuNjUPVh34Mc",
        "colab_type": "code",
        "outputId": "c38fa571-6d00-4e43-8399-858d0d85558c",
        "colab": {
          "base_uri": "https://localhost:8080/",
          "height": 54
        }
      },
      "source": [
        "(soup.find(\"div\",class_=\"fund-grid-container dashed ng-star-inserted\")).find(\"table\", class_=\"fund-table-grid border basicData float-left\")"
      ],
      "execution_count": 10,
      "outputs": [
        {
          "output_type": "execute_result",
          "data": {
            "text/plain": [
              "<table class=\"fund-table-grid border basicData float-left\"><tbody><!-- --><!-- --><!-- --><tr class=\"dgray-txt white-back-imp ng-star-inserted\"><td colspan=\"2\"><!-- --><a class=\"ng-star-inserted\" href=\"/l/mutual-funds/principal-nifty-100-equal-weight-fund\">Principal Nifty 100 Equal Weight Fund</a><!-- --><br/><span class=\"txt-lh-11\"> Growth </span></td></tr><!-- --><tr class=\"ng-star-inserted\"><!-- --><!-- --><td class=\"ng-star-inserted\">Launch Date </td><!-- --><!-- --><td class=\"ng-star-inserted\"><!-- --><!-- --><!-- --><!-- --><!-- --><!-- --><!-- --><!-- --><!-- --><!-- --><!-- --><!-- --><!-- --><!-- --><!-- --><!-- --><!-- --> 27 Jul 99 <!-- --><!-- --><!-- --></td></tr><tr class=\"ng-star-inserted\"><!-- --><!-- --><td class=\"ng-star-inserted\">NAV (29 Apr 20) </td><!-- --><!-- --><td class=\"ng-star-inserted\"><!-- --><!-- --><!-- --> ₹56.6431 <!-- --><!-- --><!-- --><span class=\"txt-lh-11 success ng-star-inserted\"> ↑ 0.86   (1.54 %) </span><!-- --><!-- --><!-- --><!-- --><!-- --><!-- --><!-- --><!-- --><!-- --><!-- --></td></tr><tr class=\"ng-star-inserted\"><!-- --><!-- --><td class=\"ng-star-inserted\">Net Assets (Cr) </td><!-- --><!-- --><td class=\"ng-star-inserted\"><!-- --><!-- --><!-- --><!-- --> ₹12 on 31 Mar 20 <!-- --><!-- --><!-- --><!-- --><!-- --><!-- --><!-- --><!-- --></td></tr><tr class=\"ng-star-inserted\"><!-- --><!-- --><td class=\"ng-star-inserted\">Category </td><!-- --><!-- --><td class=\"ng-star-inserted\"><!-- --><!-- --><!-- --><!-- --><!-- --><!-- --><!-- --><!-- --><span class=\"ng-star-inserted\">Others <!-- --><!-- -->- Index Fund</span><!-- --><!-- --><!-- --><!-- --></td></tr><tr class=\"ng-star-inserted\"><!-- --><!-- --><td class=\"ng-star-inserted\">AMC </td><!-- --><!-- --><td class=\"ng-star-inserted\"><!-- --><!-- --><!-- --><!-- --><!-- --><!-- --><!-- --><!-- --><!-- --><!-- --><!-- --><!-- --><!-- --><!-- --><!-- --><!-- --><!-- --><!-- --> Principal Pnb Asset Mgmt. Co. Priv. Ltd. <!-- --><!-- --></td></tr><tr class=\"ng-star-inserted\"><!-- --><!-- --><td class=\"ng-star-inserted\">Rating </td><!-- --><!-- --><td class=\"ng-star-inserted\"><!-- --><!-- --><!-- --><!-- --><!-- --><span class=\"ng-star-inserted\"><span class=\"yellow\">☆</span><span class=\"yellow\">☆</span></span><!-- --><!-- --><!-- --><!-- --><!-- --><!-- --><!-- --></td></tr><tr class=\"ng-star-inserted\"><!-- --><!-- --><td class=\"ng-star-inserted\">Risk </td><!-- --><!-- --><td class=\"ng-star-inserted\"><!-- --><!-- --><!-- --><!-- --><!-- --><!-- --><span class=\"ng-star-inserted\">Moderately High</span><!-- --><!-- --><!-- --><!-- --><!-- --><!-- --></td></tr><tr class=\"ng-star-inserted\"><!-- --><!-- --><td class=\"ng-star-inserted\">Expense Ratio </td><!-- --><!-- --><td class=\"ng-star-inserted\"><!-- --><!-- --><!-- --><!-- --><!-- --><!-- --><!-- --><!-- --><!-- --><!-- --><!-- --><!-- --><!-- --><!-- --><!-- --><!-- --><!-- --><!-- -->0.9<!-- --><!-- --><!-- --><!-- --><!-- --></td></tr><tr class=\"ng-star-inserted\"><!-- --><!-- --><td class=\"ng-star-inserted\">Sharpe Ratio </td><!-- --><!-- --><td class=\"ng-star-inserted\"><!-- --><!-- --><!-- --><!-- --><!-- --><!-- --><!-- --><!-- --><!-- --><!-- --><!-- --><!-- --><!-- --><!-- --><!-- --><!-- --><!-- --><!-- -->-1.36<!-- --><!-- --><!-- --><!-- --><!-- --></td></tr><tr class=\"ng-star-inserted\"><!-- --><!-- --><td class=\"ng-star-inserted\">Information Ratio </td><!-- --><!-- --><td class=\"ng-star-inserted\"><!-- --><!-- --><!-- --><!-- --><!-- --><!-- --><!-- --><!-- --><!-- --><!-- --><!-- --><!-- --><!-- --><!-- --><!-- --><!-- --><!-- --><!-- -->0<!-- --><!-- --><!-- --><!-- --><!-- --></td></tr><tr class=\"ng-star-inserted\"><!-- --><!-- --><td class=\"ng-star-inserted\">Alpha Ratio </td><!-- --><!-- --><td class=\"ng-star-inserted\"><!-- --><!-- --><!-- --><!-- --><!-- --><!-- --><!-- --><!-- --><!-- --><!-- --><!-- --><!-- --><!-- --><!-- --><!-- --><!-- --><!-- --><!-- -->0<!-- --><!-- --><!-- --><!-- --><!-- --></td></tr><tr class=\"ng-star-inserted\"><!-- --><!-- --><td class=\"ng-star-inserted\">Min Investment </td><!-- --><!-- --><td class=\"ng-star-inserted\"><!-- --><!-- --><!-- --><!-- --><!-- --><!-- --><!-- --><!-- --><!-- --><!-- --><!-- --><!-- --><!-- --><!-- --><!-- --> 5,000 <!-- --><!-- --><!-- --><!-- --><!-- --></td></tr><tr class=\"ng-star-inserted\"><!-- --><!-- --><td class=\"ng-star-inserted\">Min SIP Investment </td><!-- --><!-- --><td class=\"ng-star-inserted\"><!-- --><!-- --><!-- --><!-- --><!-- --><!-- --><!-- --><!-- --><!-- --><!-- --><!-- --><!-- --><!-- --><!-- --><!-- --> 500 <!-- --><!-- --><!-- --><!-- --><!-- --></td></tr><tr class=\"ng-star-inserted\"><!-- --><!-- --><td class=\"ng-star-inserted\">Exit Load </td><!-- --><!-- --><td class=\"ng-star-inserted\"><!-- --><!-- --><!-- --><!-- --><!-- --><!-- --><!-- --><!-- --><!-- --><!-- --><!-- --><!-- --><!-- --><!-- --><!-- --><!-- --><!-- --><!-- --> 0-90 Days (1%),90 Days and above(NIL) <!-- --><!-- --></td></tr><tr class=\"ng-star-inserted\"><!-- --><!-- --></tr><tr class=\"ng-star-inserted\"><!-- --><!-- --></tr><tr class=\"ng-star-inserted\"><!-- --><!-- --></tr></tbody></table>"
            ]
          },
          "metadata": {
            "tags": []
          },
          "execution_count": 10
        }
      ]
    },
    {
      "cell_type": "code",
      "metadata": {
        "id": "haYhvAQpj5To",
        "colab_type": "code",
        "colab": {}
      },
      "source": [
        "x1=soup.find(\"div\",class_=\"width-100 ng-star-inserted\").findAll(\"div\",class_=\"fund-grid-container dashed ng-star-inserted\")"
      ],
      "execution_count": 0,
      "outputs": []
    },
    {
      "cell_type": "code",
      "metadata": {
        "id": "xm0ZWifovh39",
        "colab_type": "code",
        "colab": {}
      },
      "source": [
        "def remove_unwanted(data_value):\n",
        "  xyz=list(set(data_value))\n",
        "  xyz.sort()\n",
        "  xyz.pop(0)\n",
        "  return xyz[0]\n",
        "\n",
        "\n",
        "for pq in x1[:1]:\n",
        "  s1={}\n",
        "\n",
        "  title=pq.find(\"h3\").text\n",
        "  s1[\"title\"]=title\n",
        "\n",
        "  # Descrbtion of the points \n",
        "  desc=pq.find(\"p\", class_=\"bq-class\").text"
      ],
      "execution_count": 0,
      "outputs": []
    },
    {
      "cell_type": "code",
      "metadata": {
        "id": "VP4gXGtovoBO",
        "colab_type": "code",
        "colab": {}
      },
      "source": [
        "  # for  growth table \n",
        "x1=soup.find(\"div\",class_=\"width-100 ng-star-inserted\").findAll(\"div\",class_=\"fund-grid-container dashed ng-star-inserted\")\n",
        "\n",
        "def growth_table(data_input):\n",
        "  for pq in data_input[:1]:\n",
        "    s1={}\n",
        "    grow1=pq.find(\"app-fund-data-growth-10k\",class_=\"ng-star-inserted\").find(\"div\",class_=\"fund-grid-container no-pad ng-star-inserted\")\n",
        "    grow1_table=grow1.find(\"table\",class_=\"fund-table-grid-ret no-row-diff basicData float-right\")\n",
        "    grow1_table_header=grow1_table.find(\"thead\")\n",
        "    data = [[td.findChildren(text=True) for td in tr.findAll(\"th\")] for tr in grow1_table_header]\n",
        "    header_value=[]\n",
        "    for i in data[0]:\n",
        "      header_value.append(i[0])\n",
        "    # print(header_value)\n",
        "\n",
        "    table_data=grow1_table.find(\"tbody\")\n",
        "    rows=table_data.findAll('tr',class_='ng-star-inserted')\n",
        "    data_output=[]\n",
        "    for tr in rows:\n",
        "      i=0\n",
        "      x=[]\n",
        "      for td in tr.findAll(\"td\"):\n",
        "        x.append(td.findChildren(text=True))\n",
        "      data_output.append(x)\n",
        "    \n",
        "    table_Data_list=[]\n",
        "    for i in data_output:\n",
        "      s1={}\n",
        "      if len(i)!=0:\n",
        "        s1[header_value[0]]=i[0][0].strip()\n",
        "        if i[1][0]==' ':\n",
        "          s1[header_value[1]]=None\n",
        "        else:\n",
        "          s1[header_value[1]]=i[1][0].strip()\n",
        "        \n",
        "      table_Data_list.append(s1)\n",
        "  return table_Data_list"
      ],
      "execution_count": 0,
      "outputs": []
    },
    {
      "cell_type": "code",
      "metadata": {
        "id": "XU-ku40_Pidm",
        "colab_type": "code",
        "outputId": "8374080f-31d8-4b02-d0d8-70c602ee9e14",
        "colab": {
          "base_uri": "https://localhost:8080/",
          "height": 71
        }
      },
      "source": [
        "x1=soup.find(\"div\",class_=\"width-100 ng-star-inserted\").findAll(\"div\",class_=\"fund-grid-container dashed ng-star-inserted\")\n",
        "\n",
        "for t1 in x1[:1]:\n",
        "  print(growth_table([t1]))"
      ],
      "execution_count": 14,
      "outputs": [
        {
          "output_type": "stream",
          "text": [
            "['Date', 'Value']\n",
            "[{'Date': '31 Mar 15', 'Value': '₹10,000'}, {'Date': '31 Mar 16', 'Value': '₹9,146'}, {'Date': '31 Mar 17', 'Value': '₹10,861'}, {'Date': '31 Mar 18', 'Value': '₹12,009'}, {'Date': '31 Mar 19', 'Value': '₹12,451'}, {'Date': '31 Mar 20', 'Value': '₹8,714'}]\n"
          ],
          "name": "stdout"
        }
      ]
    },
    {
      "cell_type": "code",
      "metadata": {
        "id": "Divh1m9sj5Q_",
        "colab_type": "code",
        "outputId": "4b7d7590-7b6c-44ad-ab19-605cbf6ebd0c",
        "colab": {
          "base_uri": "https://localhost:8080/",
          "height": 153
        }
      },
      "source": [
        "# return table\n",
        "x1=soup.find(\"div\",class_=\"width-100 ng-star-inserted\").findAll(\"div\",class_=\"fund-grid-container dashed ng-star-inserted\")\n",
        "\n",
        "def return_data_output(data_input):\n",
        "  for pq in data_input[:1]:\n",
        "    s1={}\n",
        "    stats_main_rowD_class=pq.find(\"div\",class_=\"rowD\")\n",
        "    class1_sub_columnD_first=stats_main_rowD_class.find(\"div\",class_=\"columnD first\")\n",
        "\n",
        "    descp=class1_sub_columnD_first.find(\"h4\",class_=\"center-align white-back-imp pad-tb no-margin light-bold\").text\n",
        "    descp=descp+ \"\\n\" + class1_sub_columnD_first.find(\"p\",class_=\"left-align-imp white-back-imp ng-star-inserted\").text\n",
        "    table_class_data=class1_sub_columnD_first.find(\"table\",class_=\"fund-table-grid-ret no-row-diff ng-star-inserted\")\n",
        "    header_value=[]\n",
        "    table_header=table_class_data.find(\"thead\")\n",
        "    data = [[td.findChildren(text=True) for td in tr.findAll(\"th\",class_=\"light-bold\")] for tr in table_header]\n",
        "    for i in data:\n",
        "      for y in i:\n",
        "        \n",
        "        header_value.append(y[0])\n",
        "    \n",
        "    table_data=table_class_data.find(\"tbody\")\n",
        "    rows=table_data.findAll('tr',class_='ng-star-inserted')\n",
        "    \n",
        "    data = [[td.findChildren(text=True) for td in tr.findAll(\"td\",class_=\"ng-star-inserted\")] for tr in rows]\n",
        "    \n",
        "    table_Data_list=[]\n",
        "    for i in data[1:]:\n",
        "      s1={}\n",
        "      \n",
        "      if len(i)!=0:\n",
        "        s1[header_value[0]]=i[0][0].strip()\n",
        "        \n",
        "        if i[1][0]==' ':\n",
        "          s1[header_value[1]]=None\n",
        "        else:\n",
        "          s1[header_value[1]]=i[1][0].strip()\n",
        "        \n",
        "      table_Data_list.append(s1)\n",
        "    \n",
        "  return table_Data_list\n",
        "\n",
        "return_data_output(x1)"
      ],
      "execution_count": 15,
      "outputs": [
        {
          "output_type": "execute_result",
          "data": {
            "text/plain": [
              "[{'Duration': '3 Month', 'Returns': '-22.6%'},\n",
              " {'Duration': '6 Month', 'Returns': '-21.1%'},\n",
              " {'Duration': '1 Year', 'Returns': '-22.1%'},\n",
              " {'Duration': '3 Year', 'Returns': '-4.1%'},\n",
              " {'Duration': '5 Year', 'Returns': '0%'},\n",
              " {'Duration': '10 Year', 'Returns': None},\n",
              " {'Duration': '15 Year', 'Returns': None},\n",
              " {'Duration': 'Since launch', 'Returns': None}]"
            ]
          },
          "metadata": {
            "tags": []
          },
          "execution_count": 15
        }
      ]
    },
    {
      "cell_type": "code",
      "metadata": {
        "id": "FeuqYEDDj5F4",
        "colab_type": "code",
        "outputId": "6cd6c067-894e-4c08-b9e8-d7e9c5781ceb",
        "colab": {
          "base_uri": "https://localhost:8080/",
          "height": 170
        }
      },
      "source": [
        "\n",
        "\n",
        "# for know only historical \n",
        "\n",
        "\n",
        "x1=soup.find(\"div\",class_=\"width-100 ng-star-inserted\").findAll(\"div\",class_=\"fund-grid-container dashed ng-star-inserted\")\n",
        "\n",
        "def historical_Data_output(data_input):\n",
        "  for pq in data_input[:1]:\n",
        "    s1={}\n",
        "    stats_main_rowD_class=pq.find(\"div\",class_=\"rowD\")\n",
        "    class1_sub_columnD_first=stats_main_rowD_class.find(\"div\",class_=\"columnD first\")\n",
        "\n",
        "    descp=class1_sub_columnD_first.find(\"h5\",class_=\"left-align-imp white-back-imp pad-t no-margin light-bold ng-star-inserted\").text\n",
        "\n",
        "\n",
        "    table_class_data=class1_sub_columnD_first.findAll(\"table\",class_=\"fund-table-grid-ret no-row-diff ng-star-inserted\")\n",
        "    for xyz in table_class_data[1:]:\n",
        "\n",
        "\n",
        "      header_value=[]\n",
        "      table_header=xyz.find(\"thead\")\n",
        "      data = [[td.findChildren(text=True) for td in tr.findAll(\"th\",class_=\"light-bold\")] for tr in table_header]\n",
        "      for i in data:\n",
        "        for y in i:\n",
        "\n",
        "          header_value.append(y[0])\n",
        "\n",
        "      table_data=xyz.find(\"tbody\")\n",
        "      rows=table_data.findAll('tr',class_='ng-star-inserted')\n",
        "      \n",
        "      data = [[td.findChildren(text=True) for td in tr.findAll(\"td\",class_=\"ng-star-inserted\")] for tr in rows]\n",
        "      \n",
        "      table_Data_list=[]\n",
        "      for i in data[1:]:\n",
        "        s1={}\n",
        "        \n",
        "        if len(i)!=0:\n",
        "          s1[header_value[0]]=i[0][0].strip()\n",
        "          \n",
        "          if i[1][0]==' ':\n",
        "            s1[header_value[1]]=None\n",
        "          else:\n",
        "            s1[header_value[1]]=i[1][0].strip()\n",
        "          \n",
        "        table_Data_list.append(s1)\n",
        "      \n",
        "    return table_Data_list\n",
        "\n",
        "historical_Data_output(x1)"
      ],
      "execution_count": 16,
      "outputs": [
        {
          "output_type": "execute_result",
          "data": {
            "text/plain": [
              "[{'Returns': '-3.4%', 'Year': '2018'},\n",
              " {'Returns': '28.9%', 'Year': '2017'},\n",
              " {'Returns': '3.4%', 'Year': '2016'},\n",
              " {'Returns': '-3.9%', 'Year': '2015'},\n",
              " {'Returns': '31.2%', 'Year': '2014'},\n",
              " {'Returns': '7.7%', 'Year': '2013'},\n",
              " {'Returns': '27.2%', 'Year': '2012'},\n",
              " {'Returns': '-24.3%', 'Year': '2011'},\n",
              " {'Returns': '17.6%', 'Year': '2010'}]"
            ]
          },
          "metadata": {
            "tags": []
          },
          "execution_count": 16
        }
      ]
    },
    {
      "cell_type": "code",
      "metadata": {
        "id": "dfjMN7Gwj5DK",
        "colab_type": "code",
        "outputId": "d3658e7c-5bf1-4823-9b8a-a8b279e9c870",
        "colab": {
          "base_uri": "https://localhost:8080/",
          "height": 34
        }
      },
      "source": [
        "\n",
        "# fund manager table \n",
        "\n",
        "x1=soup.find(\"div\",class_=\"width-100 ng-star-inserted\").findAll(\"div\",class_=\"fund-grid-container dashed ng-star-inserted\")\n",
        "\n",
        "def find_fund_manager(data_input):\n",
        "  for pq in data_input[:1]:\n",
        "    s1={}\n",
        "    stats_main_rowD_class=pq.find(\"div\",class_=\"rowD\")\n",
        "    class1_sub_columnD_first=stats_main_rowD_class.find(\"div\",class_=\"columnD first\")\n",
        "\n",
        "    descp=class1_sub_columnD_first.find(\"h5\",class_=\"left-align-imp white-back-imp pad-t no-margin light-bold ng-star-inserted\").text\n",
        "\n",
        "    table_class_data=class1_sub_columnD_first.findAll(\"table\",class_=\"fund-table-grid-manager no-row-diff ng-star-inserted\")\n",
        "    for xyz in table_class_data:\n",
        "\n",
        "      header_value=[]\n",
        "      table_header=xyz.find(\"thead\")\n",
        "      data = [[td.findChildren(text=True) for td in tr.findAll(\"th\",class_=\"light-bold\")] for tr in table_header]\n",
        "      for i in data:\n",
        "        for y in i:\n",
        "\n",
        "          header_value.append(y[0])\n",
        "\n",
        "      table_data=xyz.find(\"tbody\")\n",
        "      rows=table_data.findAll('tr',class_='ng-star-inserted')\n",
        "\n",
        "      data=[]\n",
        "      for tr in rows:\n",
        "        for td in tr.findAll(\"td\"):\n",
        "\n",
        "          data.append(td.text)\n",
        "\n",
        "      table_Data_list=[]\n",
        "      s1={}\n",
        "      s1[header_value[0]]=data[0]\n",
        "      s1[header_value[1]]=data[1]\n",
        "      s1[header_value[2]]=data[2]\n",
        "\n",
        "\n",
        "      table_Data_list.append(s1)\n",
        "\n",
        "    return table_Data_list\n",
        "\n",
        "find_fund_manager(x1)"
      ],
      "execution_count": 17,
      "outputs": [
        {
          "output_type": "execute_result",
          "data": {
            "text/plain": [
              "[{'Name': 'Rajat Jain', 'Since': '21 Aug 15', 'Tenure': '4.36 Yr.'}]"
            ]
          },
          "metadata": {
            "tags": []
          },
          "execution_count": 17
        }
      ]
    },
    {
      "cell_type": "code",
      "metadata": {
        "id": "8fHvkFaxj4_A",
        "colab_type": "code",
        "outputId": "10bb793d-adee-40c2-942d-4c2b527998ae",
        "colab": {
          "base_uri": "https://localhost:8080/",
          "height": 51
        }
      },
      "source": [
        "# assest allocation\n",
        "\n",
        "\n",
        "\n",
        "x1=soup.find(\"div\",class_=\"width-100 ng-star-inserted\").findAll(\"div\",class_=\"fund-grid-container dashed ng-star-inserted\")\n",
        "\n",
        "def find_Assest_Allocation(data_input):\n",
        "  for pq in data_input[:1]:\n",
        "    s1={}\n",
        "    x=pq.find(\"div\",class_=\"rowD\")\n",
        "    class1_sub_columnD=x.findAll(\"div\",class_=\"columnD\")\n",
        "    class1_sub_columnD=class1_sub_columnD[1]\n",
        "    \n",
        "    test=class1_sub_columnD.find(\"app-fund-data-asset-allocation\").find(\"div\",class_=\"fund-grid-container no-pad ng-star-inserted\")\n",
        "    table_class_data=test.findAll(\"table\",class_=\"fund-table-grid-alloc no-row-diff\")\n",
        "    for xyz in table_class_data:\n",
        "\n",
        "      header_value=[]\n",
        "      table_header=xyz.find(\"thead\")\n",
        "      data = [[td.findChildren(text=True) for td in tr.findAll(\"th\",class_=\"light-bold\")] for tr in table_header]\n",
        "      for i in data:\n",
        "        for y in i:\n",
        "          \n",
        "          header_value.append(y[0])\n",
        "      table_data=xyz.find(\"tbody\")\n",
        "      rows=table_data.findAll('tr',class_='ng-star-inserted')\n",
        "      final_table_data=[]\n",
        "      for tr in rows:\n",
        "        s1={}\n",
        "        table_data=[]\n",
        "        for td in tr.findAll(\"td\"):\n",
        "          table_data.append(td.text)\n",
        "\n",
        "        s1[\"Asset_Class\"]=table_data[0]\n",
        "        s1[header_value[1]]=table_data[1]\n",
        "      \n",
        "\n",
        "        final_table_data.append(s1)\n",
        "      \n",
        "    return final_table_data\n",
        "\n",
        "\n",
        "\n",
        "find_Assest_Allocation(x1)"
      ],
      "execution_count": 18,
      "outputs": [
        {
          "output_type": "execute_result",
          "data": {
            "text/plain": [
              "[{'Asset_Class': 'Cash', 'Value': '0.79%'},\n",
              " {'Asset_Class': 'Equity', 'Value': '99.21%'}]"
            ]
          },
          "metadata": {
            "tags": []
          },
          "execution_count": 18
        }
      ]
    },
    {
      "cell_type": "code",
      "metadata": {
        "id": "LqgKmrk9j47w",
        "colab_type": "code",
        "outputId": "c5db78bb-c91a-4a18-938a-e76fdefe14af",
        "colab": {
          "base_uri": "https://localhost:8080/",
          "height": 697
        }
      },
      "source": [
        "# top security portfoilio\n",
        "\n",
        "from pprint import pprint\n",
        "x1=soup.find(\"div\",class_=\"width-100 ng-star-inserted\").findAll(\"div\",class_=\"fund-grid-container dashed ng-star-inserted\")\n",
        "def find_portfolio_details(data_input):\n",
        "\n",
        "  for pq in data_input[:1]:\n",
        "    s1={}\n",
        "    x=pq.find(\"div\",class_=\"rowD\")\n",
        "\n",
        "    class1_sub_columnD=x.findAll(\"div\",class_=\"columnD\")\n",
        "    class1_sub_columnD=class1_sub_columnD[1]\n",
        "\n",
        "    \n",
        "    test=class1_sub_columnD.find(\"app-fund-data-holdings\").find(\"div\",class_=\"fund-grid-container no-pad ng-star-inserted\")\n",
        "    table_class_data=test.findAll(\"table\",class_=\"fund-table-grid-hold no-row-diff\")\n",
        "    for xyz in table_class_data:\n",
        "\n",
        "      header_value=[]\n",
        "      table_header=xyz.find(\"thead\")\n",
        "      data = [[td.findChildren(text=True) for td in tr.findAll(\"th\",class_=\"light-bold\")] for tr in table_header]\n",
        "      for i in data:\n",
        "        for y in i:\n",
        "\n",
        "          header_value.append(y[0])\n",
        "      table_data=xyz.find(\"tbody\")\n",
        "      \n",
        "      rows=table_data.findAll('tr',class_='ng-star-inserted')\n",
        "      \n",
        "      final_table_data=[]\n",
        "      for tr in rows:\n",
        "        s1={}\n",
        "      \n",
        "        table_data=[]\n",
        "        for td in tr.findAll(\"td\"):\n",
        "          table_data.append(td.text)\n",
        "\n",
        "      \n",
        "        s1[header_value[0]]=table_data[0]\n",
        "        s1[header_value[1]]=table_data[1]\n",
        "        s1[header_value[2]]=table_data[2]\n",
        "        s1[header_value[3]]=table_data[3]\n",
        "      \n",
        "\n",
        "        final_table_data.append(s1)\n",
        "      \n",
        "      \n",
        "    return final_table_data\n",
        "\n",
        "find_portfolio_details(x1)\n",
        "  "
      ],
      "execution_count": 19,
      "outputs": [
        {
          "output_type": "execute_result",
          "data": {
            "text/plain": [
              "[{'Holding': '1%',\n",
              "  'Name': ' The New India Assurance Co Ltd (Financial Services)Equity, Since 30 Sep 18 | 540769',\n",
              "  'Quantity': '15,161 ↑ 2,962 ',\n",
              "  'Value': '₹0 Cr'},\n",
              " {'Holding': '1%',\n",
              "  'Name': ' Adani Transmission Ltd (Utilities)Equity, Since 31 Mar 20 | 539254',\n",
              "  'Quantity': '8,169 ↑ 8,169 ',\n",
              "  'Value': '₹0 Cr'},\n",
              " {'Holding': '1%',\n",
              "  'Name': ' NMDC Ltd (Basic Materials)Equity, Since 31 May 18 | 526371',\n",
              "  'Quantity': '19,043 ↑ 4,697 ',\n",
              "  'Value': '₹0 Cr'},\n",
              " {'Holding': '1%',\n",
              "  'Name': ' ITC Ltd (Consumer Defensive)Equity, Since 31 Jan 03 | ITC',\n",
              "  'Quantity': '8,806 ↑ 1,611 ',\n",
              "  'Value': '₹0 Cr'},\n",
              " {'Holding': '1%',\n",
              "  'Name': ' Cadila Healthcare Ltd (Healthcare)Equity, Since 31 May 18 | 532321',\n",
              "  'Quantity': '5,650 ↓ -1,109 ',\n",
              "  'Value': '₹0 Cr'},\n",
              " {'Holding': '1%',\n",
              "  'Name': ' Hindustan Unilever Ltd (Consumer Defensive)Equity, Since 31 Jan 03 | 500696',\n",
              "  'Quantity': '651 ↓ -256 ',\n",
              "  'Value': '₹0 Cr'},\n",
              " {'Holding': '1%',\n",
              "  'Name': ' Aurobindo Pharma Ltd (Healthcare)Equity, Since 31 May 18 | AUROPHARMA',\n",
              "  'Quantity': '3,574 ↓ -237 ',\n",
              "  'Value': '₹0 Cr'},\n",
              " {'Holding': '1%',\n",
              "  'Name': ' Hindustan Zinc Ltd (Basic Materials)Equity, Since 31 May 18 | 500188',\n",
              "  'Quantity': '9,459 ↑ 924 ',\n",
              "  'Value': '₹0 Cr'},\n",
              " {'Holding': '1%',\n",
              "  'Name': ' Procter & Gamble Hygiene and Health Care Ltd (Consumer Defensive)Equity, Since 31 May 18 | PGHH',\n",
              "  'Quantity': '143 ↓ -13 ',\n",
              "  'Value': '₹0 Cr'},\n",
              " {'Holding': '1%',\n",
              "  'Name': \" Dr Reddy's Laboratories Ltd (Healthcare)Equity, Since 31 Oct 10 | 500124\",\n",
              "  'Quantity': '470 ↓ -138 ',\n",
              "  'Value': '₹0 Cr'}]"
            ]
          },
          "metadata": {
            "tags": []
          },
          "execution_count": 19
        }
      ]
    },
    {
      "cell_type": "code",
      "metadata": {
        "id": "TCfUhv3zW4vm",
        "colab_type": "code",
        "colab": {}
      },
      "source": [
        "def find_key_inform(data_value):\n",
        "  table=data_value.find(\"table\", class_=\"fund-table-grid border basicData float-left\")\n",
        "  rows=table.findAll('tr',class_='ng-star-inserted')\n",
        "  data = [[td.findChildren(text=True) for td in tr.findAll(\"td\")] for tr in rows]\n",
        "  find_key_inform={}\n",
        "  for i in data[1:]:\n",
        "    if len(i)!=0:\n",
        "      find_key_inform[i[0][0]]=remove_unwanted(i[1])\n",
        "  \n",
        "  return find_key_inform"
      ],
      "execution_count": 0,
      "outputs": []
    },
    {
      "cell_type": "code",
      "metadata": {
        "id": "8sRqXKaVAHv3",
        "colab_type": "code",
        "outputId": "eea0c3fc-d3e2-4548-f919-96eb90eb791f",
        "colab": {
          "base_uri": "https://localhost:8080/",
          "height": 54
        }
      },
      "source": [
        "final_output=[]\n",
        "x1=soup.find(\"div\",class_=\"width-100 ng-star-inserted\").findAll(\"div\",class_=\"fund-grid-container dashed ng-star-inserted\")\n",
        "for pq in x1:\n",
        "  s1={}\n",
        "  \n",
        "  # method to extract the list or index of the points\n",
        "  title=pq.find(\"h3\").text\n",
        "  s1[\"title\"]=title.strip(title[:3])\n",
        "\n",
        "  # Descrbtion of the points \n",
        "  desc=pq.find(\"p\", class_=\"bq-class\").text\n",
        "  \n",
        "  s1[\"description\"]=desc\n",
        "  s1[\"key_information\"]=find_key_inform(pq)\n",
        "  s1[\"Growth_of_10000_investment_over_the_years\"]=growth_table([pq])\n",
        "  s1[\"Returns_data\"]=return_data_output([pq])\n",
        "  s1[\"Historical_data\"]=historical_Data_output([pq])\n",
        "  s1[\"fund_manager_Details\"]=find_fund_manager([pq])\n",
        "  s1[\"Assest_Allocation_Details\"]=find_Assest_Allocation([pq])\n",
        "  s1[\"portfolio_Details\"]=find_portfolio_details([pq])\n",
        "  final_output.append(s1)\n",
        "print(final_output)"
      ],
      "execution_count": 55,
      "outputs": [
        {
          "output_type": "stream",
          "text": [
            "[{'title': 'Principal Nifty 100 Equal Weight Fund', 'description': ' Principal Nifty 100 Equal Weight Fund is a Others - Index Fund fund was launched on 27 Jul 99. It is a fund with Moderately High risk and has given a CAGR/Annualized return of  since its launch. \\xa0Ranked 72 in Index Fund category.  \\xa0Return for 2019 was 2.8% , 2018 was -3.4% and 2017 was 28.9% . ', 'key_information': {'Launch Date ': ' 27 Jul 99 ', 'NAV (29 Apr 20) ': ' ₹56.6431 ', 'Net Assets (Cr) ': ' ₹12 on 31 Mar 20 ', 'Category ': '- Index Fund', 'AMC ': ' Principal Pnb Asset Mgmt. Co. Priv. Ltd. ', 'Rating ': '☆', 'Risk ': 'Moderately High', 'Expense Ratio ': '0.9', 'Sharpe Ratio ': '-1.36', 'Information Ratio ': '0', 'Alpha Ratio ': '0', 'Min Investment ': ' 5,000 ', 'Min SIP Investment ': ' 500 ', 'Exit Load ': ' 0-90 Days (1%),90 Days and above(NIL) '}, 'Growth_of_10000_investment_over_the_years': [{'Date': '31 Mar 15', 'Value': '₹10,000'}, {'Date': '31 Mar 16', 'Value': '₹9,146'}, {'Date': '31 Mar 17', 'Value': '₹10,861'}, {'Date': '31 Mar 18', 'Value': '₹12,009'}, {'Date': '31 Mar 19', 'Value': '₹12,451'}, {'Date': '31 Mar 20', 'Value': '₹8,714'}], 'Returns_data': [{'Duration': '3 Month', 'Returns': '-22.6%'}, {'Duration': '6 Month', 'Returns': '-21.1%'}, {'Duration': '1 Year', 'Returns': '-22.1%'}, {'Duration': '3 Year', 'Returns': '-4.1%'}, {'Duration': '5 Year', 'Returns': '0%'}, {'Duration': '10 Year', 'Returns': None}, {'Duration': '15 Year', 'Returns': None}, {'Duration': 'Since launch', 'Returns': None}], 'Historical_data': [{'Year': '2018', 'Returns': '-3.4%'}, {'Year': '2017', 'Returns': '28.9%'}, {'Year': '2016', 'Returns': '3.4%'}, {'Year': '2015', 'Returns': '-3.9%'}, {'Year': '2014', 'Returns': '31.2%'}, {'Year': '2013', 'Returns': '7.7%'}, {'Year': '2012', 'Returns': '27.2%'}, {'Year': '2011', 'Returns': '-24.3%'}, {'Year': '2010', 'Returns': '17.6%'}], 'fund_manager_Details': [{'Name': 'Rajat Jain', 'Since': '21 Aug 15', 'Tenure': '4.36 Yr.'}], 'Assest_Allocation_Details': [{'Asset_Class': 'Cash', 'Value': '0.79%'}, {'Asset_Class': 'Equity', 'Value': '99.21%'}], 'portfolio_Details': [{'Name': ' The New India Assurance Co Ltd (Financial Services)Equity, Since 30 Sep 18 | 540769', 'Holding': '1%', 'Value': '₹0 Cr', 'Quantity': '15,161 ↑ 2,962 '}, {'Name': ' Adani Transmission Ltd (Utilities)Equity, Since 31 Mar 20 | 539254', 'Holding': '1%', 'Value': '₹0 Cr', 'Quantity': '8,169 ↑ 8,169 '}, {'Name': ' NMDC Ltd (Basic Materials)Equity, Since 31 May 18 | 526371', 'Holding': '1%', 'Value': '₹0 Cr', 'Quantity': '19,043 ↑ 4,697 '}, {'Name': ' ITC Ltd (Consumer Defensive)Equity, Since 31 Jan 03 | ITC', 'Holding': '1%', 'Value': '₹0 Cr', 'Quantity': '8,806 ↑ 1,611 '}, {'Name': ' Cadila Healthcare Ltd (Healthcare)Equity, Since 31 May 18 | 532321', 'Holding': '1%', 'Value': '₹0 Cr', 'Quantity': '5,650 ↓ -1,109 '}, {'Name': ' Hindustan Unilever Ltd (Consumer Defensive)Equity, Since 31 Jan 03 | 500696', 'Holding': '1%', 'Value': '₹0 Cr', 'Quantity': '651 ↓ -256 '}, {'Name': ' Aurobindo Pharma Ltd (Healthcare)Equity, Since 31 May 18 | AUROPHARMA', 'Holding': '1%', 'Value': '₹0 Cr', 'Quantity': '3,574 ↓ -237 '}, {'Name': ' Hindustan Zinc Ltd (Basic Materials)Equity, Since 31 May 18 | 500188', 'Holding': '1%', 'Value': '₹0 Cr', 'Quantity': '9,459 ↑ 924 '}, {'Name': ' Procter & Gamble Hygiene and Health Care Ltd (Consumer Defensive)Equity, Since 31 May 18 | PGHH', 'Holding': '1%', 'Value': '₹0 Cr', 'Quantity': '143 ↓ -13 '}, {'Name': \" Dr Reddy's Laboratories Ltd (Healthcare)Equity, Since 31 Oct 10 | 500124\", 'Holding': '1%', 'Value': '₹0 Cr', 'Quantity': '470 ↓ -138 '}]}, {'title': 'ICICI Prudential Nifty Index Fund', 'description': ' ICICI Prudential Nifty Index Fund is a Others - Index Fund fund was launched on 26 Feb 02. It is a fund with Moderately High risk and has given a CAGR/Annualized return of 13% since its launch. \\xa0Ranked 71 in Index Fund category.  \\xa0Return for 2019 was 12.8% , 2018 was 3.4% and 2017 was 28.7% . ', 'key_information': {'Launch Date ': ' 26 Feb 02 ', 'NAV (29 Apr 20) ': ' ₹92.7834 ', 'Net Assets (Cr) ': ' ₹688 on 31 Mar 20 ', 'Category ': '- Index Fund', 'AMC ': ' ICICI Prudential Asset Management Company Limited ', 'Rating ': '☆', 'Risk ': 'Moderately High', 'Expense Ratio ': '0.92', 'Sharpe Ratio ': '-1.13', 'Information Ratio ': '-6.4', 'Alpha Ratio ': '-0.48', 'Min Investment ': ' 5,000 ', 'Min SIP Investment ': ' 100 ', 'Exit Load ': ' NIL '}, 'Growth_of_10000_investment_over_the_years': [{'Date': '31 Mar 15', 'Value': '₹10,000'}, {'Date': '31 Mar 16', 'Value': '₹9,177'}, {'Date': '31 Mar 17', 'Value': '₹10,904'}, {'Date': '31 Mar 18', 'Value': '₹12,039'}, {'Date': '31 Mar 19', 'Value': '₹13,864'}, {'Date': '31 Mar 20', 'Value': '₹10,344'}], 'Returns_data': [{'Duration': '3 Month', 'Returns': '-21.1%'}, {'Duration': '6 Month', 'Returns': '-18.9%'}, {'Duration': '1 Year', 'Returns': '-18%'}, {'Duration': '3 Year', 'Returns': '1.3%'}, {'Duration': '5 Year', 'Returns': '3.4%'}, {'Duration': '10 Year', 'Returns': None}, {'Duration': '15 Year', 'Returns': None}, {'Duration': 'Since launch', 'Returns': '13%'}], 'Historical_data': [{'Year': '2018', 'Returns': '3.4%'}, {'Year': '2017', 'Returns': '28.7%'}, {'Year': '2016', 'Returns': '3.6%'}, {'Year': '2015', 'Returns': '-3.6%'}, {'Year': '2014', 'Returns': '32.5%'}, {'Year': '2013', 'Returns': '7.9%'}, {'Year': '2012', 'Returns': '26.5%'}, {'Year': '2011', 'Returns': '-23.6%'}, {'Year': '2010', 'Returns': '18.7%'}], 'fund_manager_Details': [{'Name': 'Kayzad Eghlim', 'Since': '1 Aug 09', 'Tenure': '10.42 Yr.'}], 'Assest_Allocation_Details': [{'Asset_Class': 'Cash', 'Value': '0.98%'}, {'Asset_Class': 'Equity', 'Value': '99.02%'}], 'portfolio_Details': [{'Name': ' Reliance Industries Ltd (Energy)Equity, Since 31 Mar 05 | RELIANCE', 'Holding': '10%', 'Value': '₹69 Cr', 'Quantity': '620,123 ↑ 234,827 '}, {'Name': ' HDFC Bank Ltd (Financial Services)Equity, Since 31 Mar 05 | HDFCBANK', 'Holding': '10%', 'Value': '₹68 Cr', 'Quantity': '790,143 ↑ 271,627 '}, {'Name': ' Housing Development Finance Corp Ltd (Financial Services)Equity, Since 31 Mar 12 | HDFC', 'Holding': '8%', 'Value': '₹52 Cr', 'Quantity': '321,464 ↑ 114,366 '}, {'Name': ' Infosys Ltd (Technology)Equity, Since 31 Mar 05 | INFY', 'Holding': '7%', 'Value': '₹45 Cr', 'Quantity': '705,711 ↑ 272,173 '}, {'Name': ' ICICI Bank Ltd (Financial Services)Equity, Since 31 Mar 05 | ICICIBANK', 'Holding': '6%', 'Value': '₹41 Cr', 'Quantity': '1,262,639 ↑ 484,174 '}, {'Name': ' Tata Consultancy Services Ltd (Technology)Equity, Since 31 Mar 05 | TCS', 'Holding': '5%', 'Value': '₹38 Cr', 'Quantity': '206,079 ↑ 81,035 '}, {'Name': ' Kotak Mahindra Bank Ltd (Financial Services)Equity, Since 29 Feb 12 | KOTAKBANK', 'Holding': '5%', 'Value': '₹33 Cr', 'Quantity': '254,450 ↑ 92,674 '}, {'Name': ' Hindustan Unilever Ltd (Consumer Defensive)Equity, Since 31 Mar 05 | 500696', 'Holding': '5%', 'Value': '₹32 Cr', 'Quantity': '137,452 ↑ 51,598 '}, {'Name': ' ITC Ltd (Consumer Defensive)Equity, Since 29 Feb 12 | ITC', 'Holding': '4%', 'Value': '₹28 Cr', 'Quantity': '1,658,819 ↑ 615,042 '}, {'Name': ' Larsen & Toubro Ltd (Industrials)Equity, Since 29 Feb 12 | LT', 'Holding': '3%', 'Value': '₹19 Cr', 'Quantity': '234,552 ↑ 84,094 '}]}, {'title': 'UTI Nifty Index Fund', 'description': ' UTI Nifty Index Fund is a Others - Index Fund fund was launched on 6 Mar 00. It is a fund with Moderately High risk and has given a CAGR/Annualized return of 9.5% since its launch. \\xa0Ranked 68 in Index Fund category.  \\xa0Return for 2019 was 13.2% , 2018 was 4.3% and 2017 was 29.7% . ', 'key_information': {'Launch Date ': ' 6 Mar 00 ', 'NAV (29 Apr 20) ': ' ₹62.6865 ', 'Net Assets (Cr) ': ' ₹1,729 on 31 Mar 20 ', 'Category ': '- Index Fund', 'AMC ': ' UTI Asset Management Company Ltd ', 'Rating ': '☆', 'Risk ': 'Moderately High', 'Expense Ratio ': '0.2', 'Sharpe Ratio ': '-1.12', 'Information Ratio ': '-2.11', 'Alpha Ratio ': '-0.21', 'Min Investment ': ' 5,000 ', 'Min SIP Investment ': ' 500 ', 'Exit Load ': ' NIL '}, 'Growth_of_10000_investment_over_the_years': [{'Date': '31 Mar 15', 'Value': '₹10,000'}, {'Date': '31 Mar 16', 'Value': '₹9,186'}, {'Date': '31 Mar 17', 'Value': '₹10,979'}, {'Date': '31 Mar 18', 'Value': '₹12,241'}, {'Date': '31 Mar 19', 'Value': '₹14,198'}, {'Date': '31 Mar 20', 'Value': '₹10,591'}], 'Returns_data': [{'Duration': '3 Month', 'Returns': '-21.3%'}, {'Duration': '6 Month', 'Returns': '-19%'}, {'Duration': '1 Year', 'Returns': '-18%'}, {'Duration': '3 Year', 'Returns': '1.9%'}, {'Duration': '5 Year', 'Returns': '3.9%'}, {'Duration': '10 Year', 'Returns': None}, {'Duration': '15 Year', 'Returns': None}, {'Duration': 'Since launch', 'Returns': '9.5%'}], 'Historical_data': [{'Year': '2018', 'Returns': '4.3%'}, {'Year': '2017', 'Returns': '29.7%'}, {'Year': '2016', 'Returns': '4%'}, {'Year': '2015', 'Returns': '-3.3%'}, {'Year': '2014', 'Returns': '31.8%'}, {'Year': '2013', 'Returns': '6.9%'}, {'Year': '2012', 'Returns': '28.3%'}, {'Year': '2011', 'Returns': '-24.8%'}, {'Year': '2010', 'Returns': '17.7%'}], 'fund_manager_Details': [{'Name': 'Sharwan Kumar Goyal', 'Since': '1 May 19', 'Tenure': '0.67 Yr.'}], 'Assest_Allocation_Details': [{'Asset_Class': 'Equity', 'Value': '100.19%'}], 'portfolio_Details': [{'Name': ' HDFC Bank Ltd (Financial Services)Equity, Since 31 Jan 10 | HDFCBANK', 'Holding': '10%', 'Value': '₹181 Cr', 'Quantity': '2,095,284 ↑ 348,201 '}, {'Name': ' Reliance Industries Ltd (Energy)Equity, Since 31 Jan 03 | RELIANCE', 'Holding': '10%', 'Value': '₹174 Cr', 'Quantity': '1,564,152 ↑ 258,403 '}, {'Name': ' Housing Development Finance Corp Ltd (Financial Services)Equity, Since 31 Mar 12 | HDFC', 'Holding': '8%', 'Value': '₹137 Cr', 'Quantity': '836,476 ↑ 139,460 '}, {'Name': ' Infosys Ltd (Technology)Equity, Since 31 Jan 03 | INFY', 'Holding': '7%', 'Value': '₹114 Cr', 'Quantity': '1,771,990 ↑ 292,868 '}, {'Name': ' ICICI Bank Ltd (Financial Services)Equity, Since 31 Jan 03 | ICICIBANK', 'Holding': '6%', 'Value': '₹101 Cr', 'Quantity': '3,131,345 ↑ 519,131 '}, {'Name': ' Tata Consultancy Services Ltd (Technology)Equity, Since 28 Feb 05 | TCS', 'Holding': '5%', 'Value': '₹93 Cr', 'Quantity': '508,315 ↑ 83,973 '}, {'Name': ' Kotak Mahindra Bank Ltd (Financial Services)Equity, Since 31 Dec 10 | KOTAKBANK', 'Holding': '5%', 'Value': '₹84 Cr', 'Quantity': '647,677 ↑ 107,495 '}, {'Name': ' Hindustan Unilever Ltd (Consumer Defensive)Equity, Since 31 Jan 03 | 500696', 'Holding': '5%', 'Value': '₹79 Cr', 'Quantity': '345,624 ↑ 57,103 '}, {'Name': ' ITC Ltd (Consumer Defensive)Equity, Since 31 Jan 03 | ITC', 'Holding': '4%', 'Value': '₹72 Cr', 'Quantity': '4,222,366 ↑ 698,429 '}, {'Name': ' Larsen & Toubro Ltd (Industrials)Equity, Since 31 Dec 04 | LT', 'Holding': '3%', 'Value': '₹48 Cr', 'Quantity': '597,637 ↑ 98,784 '}]}, {'title': 'IDFC Nifty Fund', 'description': ' IDFC Nifty Fund is a Others - Index Fund fund was launched on 30 Apr 10. It is a fund with Moderately High risk and has given a CAGR/Annualized return of 7.2% since its launch. \\xa0Ranked 70 in Index Fund category.  \\xa0Return for 2019 was 12.9% , 2018 was 4.4% and 2017 was 29.5% . ', 'key_information': {'Launch Date ': ' 30 Apr 10 ', 'NAV (29 Apr 20) ': ' ₹20.028 ', 'Net Assets (Cr) ': ' ₹169 on 31 Mar 20 ', 'Category ': '- Index Fund', 'AMC ': ' IDFC Asset Management Company Limited ', 'Rating ': '☆', 'Risk ': 'Moderately High', 'Expense Ratio ': '0.26', 'Sharpe Ratio ': '-1.13', 'Information Ratio ': '-0.31', 'Alpha Ratio ': '-0.44', 'Min Investment ': ' 100 ', 'Min SIP Investment ': ' 1,000 ', 'Exit Load ': ' 0-7 Days (1%),7 Days and above(NIL) '}, 'Growth_of_10000_investment_over_the_years': [{'Date': '31 Mar 15', 'Value': '₹10,000'}, {'Date': '31 Mar 16', 'Value': '₹9,187'}, {'Date': '31 Mar 17', 'Value': '₹10,965'}, {'Date': '31 Mar 18', 'Value': '₹12,214'}, {'Date': '31 Mar 19', 'Value': '₹14,159'}, {'Date': '31 Mar 20', 'Value': '₹10,658'}], 'Returns_data': [{'Duration': '3 Month', 'Returns': '-20.4%'}, {'Duration': '6 Month', 'Returns': '-18.2%'}, {'Duration': '1 Year', 'Returns': '-17.3%'}, {'Duration': '3 Year', 'Returns': '2.1%'}, {'Duration': '5 Year', 'Returns': '4.1%'}, {'Duration': '10 Year', 'Returns': None}, {'Duration': '15 Year', 'Returns': None}, {'Duration': 'Since launch', 'Returns': '7.2%'}], 'Historical_data': [{'Year': '2018', 'Returns': '4.4%'}, {'Year': '2017', 'Returns': '29.5%'}, {'Year': '2016', 'Returns': '3.9%'}, {'Year': '2015', 'Returns': '-3.5%'}, {'Year': '2014', 'Returns': '32.5%'}, {'Year': '2013', 'Returns': '7.5%'}, {'Year': '2012', 'Returns': '29.9%'}, {'Year': '2011', 'Returns': '-23.8%'}, {'Year': '2010', 'Returns': None}], 'fund_manager_Details': [{'Name': 'Arpit Kapoor', 'Since': '1 Mar 17', 'Tenure': '2.84 Yr.'}], 'Assest_Allocation_Details': [{'Asset_Class': 'Cash', 'Value': '0.62%'}, {'Asset_Class': 'Equity', 'Value': '99.37%'}, {'Asset_Class': 'Debt', 'Value': '0.01%'}], 'portfolio_Details': [{'Name': ' HDFC Bank Ltd (Financial Services)Equity, Since 30 Apr 10 | HDFCBANK', 'Holding': '11%', 'Value': '₹18 Cr', 'Quantity': '210,639 ↑ 43,606 '}, {'Name': ' Reliance Industries Ltd (Energy)Equity, Since 30 Apr 10 | RELIANCE', 'Holding': '9%', 'Value': '₹15 Cr', 'Quantity': '135,418 ↑ 10,548 '}, {'Name': ' Housing Development Finance Corp Ltd (Financial Services)Equity, Since 30 Apr 10 | HDFC', 'Holding': '8%', 'Value': '₹13 Cr', 'Quantity': '78,851 ↑ 12,210 '}, {'Name': ' ICICI Bank Ltd (Financial Services)Equity, Since 30 Apr 10 | ICICIBANK', 'Holding': '6%', 'Value': '₹11 Cr', 'Quantity': '338,062 ↑ 88,210 '}, {'Name': ' Infosys Ltd (Technology)Equity, Since 30 Apr 10 | INFY', 'Holding': '5%', 'Value': '₹9 Cr', 'Quantity': '143,702 ↑ 2,299 '}, {'Name': ' Tata Consultancy Services Ltd (Technology)Equity, Since 30 Apr 10 | TCS', 'Holding': '5%', 'Value': '₹8 Cr', 'Quantity': '43,152 ↑ 2,600 '}, {'Name': ' Kotak Mahindra Bank Ltd (Financial Services)Equity, Since 31 Mar 12 | KOTAKBANK', 'Holding': '4%', 'Value': '₹7 Cr', 'Quantity': '57,832 ↑ 6,185 '}, {'Name': ' Hindustan Unilever Ltd (Consumer Defensive)Equity, Since 31 Jan 11 | 500696', 'Holding': '4%', 'Value': '₹6 Cr', 'Quantity': '28,100 ↑ 521 '}, {'Name': ' ITC Ltd (Consumer Defensive)Equity, Since 29 Feb 12 | ITC', 'Holding': '4%', 'Value': '₹6 Cr', 'Quantity': '346,492 ↑ 9,640 '}, {'Name': ' Axis Bank Ltd (Financial Services)Equity, Since 30 Apr 10 | 532215', 'Holding': '3%', 'Value': '₹5 Cr', 'Quantity': '141,843 ↑ 55,810 '}]}, {'title': 'Franklin India Index Fund Nifty Plan', 'description': ' Franklin India Index Fund Nifty Plan is a Others - Index Fund fund was launched on 4 Aug 00. It is a fund with Moderately High risk and has given a CAGR/Annualized return of 10.8% since its launch. \\xa0Ranked 76 in Index Fund category.  \\xa0Return for 2019 was 12% , 2018 was 3.2% and 2017 was 28.3% . ', 'key_information': {'Launch Date ': ' 4 Aug 00 ', 'NAV (29 Apr 20) ': ' ₹75.6154 ', 'Net Assets (Cr) ': ' ₹250 on 31 Mar 20 ', 'Category ': '- Index Fund', 'AMC ': ' Franklin Templeton Asst Mgmt(IND)Pvt Ltd ', 'Rating ': '☆', 'Risk ': 'Moderately High', 'Expense Ratio ': '1.09', 'Sharpe Ratio ': '-1.16', 'Information Ratio ': '-4.03', 'Alpha Ratio ': '-1.2', 'Min Investment ': ' 5,000 ', 'Min SIP Investment ': ' 500 ', 'Exit Load ': ' 0-30 Days (1%),30 Days and above(NIL) '}, 'Growth_of_10000_investment_over_the_years': [{'Date': '31 Mar 15', 'Value': '₹10,000'}, {'Date': '31 Mar 16', 'Value': '₹9,161'}, {'Date': '31 Mar 17', 'Value': '₹10,872'}, {'Date': '31 Mar 18', 'Value': '₹11,972'}, {'Date': '31 Mar 19', 'Value': '₹13,747'}, {'Date': '31 Mar 20', 'Value': '₹10,223'}], 'Returns_data': [{'Duration': '3 Month', 'Returns': '-21.1%'}, {'Duration': '6 Month', 'Returns': '-19.1%'}, {'Duration': '1 Year', 'Returns': '-18.5%'}, {'Duration': '3 Year', 'Returns': '0.9%'}, {'Duration': '5 Year', 'Returns': '3.1%'}, {'Duration': '10 Year', 'Returns': None}, {'Duration': '15 Year', 'Returns': None}, {'Duration': 'Since launch', 'Returns': '10.8%'}], 'Historical_data': [{'Year': '2018', 'Returns': '3.2%'}, {'Year': '2017', 'Returns': '28.3%'}, {'Year': '2016', 'Returns': '3.3%'}, {'Year': '2015', 'Returns': '-3.6%'}, {'Year': '2014', 'Returns': '31.2%'}, {'Year': '2013', 'Returns': '6.9%'}, {'Year': '2012', 'Returns': '27.7%'}, {'Year': '2011', 'Returns': '-24.4%'}, {'Year': '2010', 'Returns': '18%'}], 'fund_manager_Details': [{'Name': 'Varun Sharma', 'Since': '30 Nov 15', 'Tenure': '4.09 Yr.'}], 'Assest_Allocation_Details': [{'Asset_Class': 'Equity', 'Value': '98.65%'}, {'Asset_Class': 'Other', 'Value': '1.35%'}], 'portfolio_Details': [{'Name': ' HDFC Bank Ltd (Financial Services)Equity, Since 31 Jan 03 | HDFCBANK', 'Holding': '10%', 'Value': '₹26 Cr', 'Quantity': '301,830 ↑ 48,139 '}, {'Name': ' Reliance Industries Ltd (Energy)Equity, Since 31 Jan 03 | RELIANCE', 'Holding': '10%', 'Value': '₹25 Cr', 'Quantity': '225,166 ↑ 36,121 '}, {'Name': ' Housing Development Finance Corp Ltd (Financial Services)Equity, Since 30 Apr 09 | HDFC', 'Holding': '8%', 'Value': '₹20 Cr', 'Quantity': '120,315 ↑ 19,270 '}, {'Name': ' Infosys Ltd (Technology)Equity, Since 29 Feb 12 | INFY', 'Holding': '7%', 'Value': '₹16 Cr', 'Quantity': '255,131 ↑ 40,565 '}, {'Name': ' ICICI Bank Ltd (Financial Services)Equity, Since 31 Jan 10 | ICICIBANK', 'Holding': '6%', 'Value': '₹15 Cr', 'Quantity': '448,807 ↑ 69,093 '}, {'Name': ' Tata Consultancy Services Ltd (Technology)Equity, Since 28 Feb 05 | TCS', 'Holding': '5%', 'Value': '₹13 Cr', 'Quantity': '73,138 ↑ 11,440 '}, {'Name': ' Kotak Mahindra Bank Ltd (Financial Services)Equity, Since 31 Mar 12 | KOTAKBANK', 'Holding': '5%', 'Value': '₹12 Cr', 'Quantity': '93,112 ↑ 14,571 '}, {'Name': ' Hindustan Unilever Ltd (Consumer Defensive)Equity, Since 31 Jan 03 | 500696', 'Holding': '5%', 'Value': '₹11 Cr', 'Quantity': '49,532 ↑ 7,676 '}, {'Name': ' ITC Ltd (Consumer Defensive)Equity, Since 31 Mar 11 | ITC', 'Holding': '4%', 'Value': '₹10 Cr', 'Quantity': '604,115 ↑ 134,272 '}, {'Name': ' Larsen & Toubro Ltd (Industrials)Equity, Since 30 Jun 12 | LT', 'Holding': '3%', 'Value': '₹7 Cr', 'Quantity': '85,499 ↑ 13,017 '}]}, {'title': 'SBI Nifty Index Fund', 'description': ' SBI Nifty Index Fund is a Others - Index Fund fund was launched on 17 Jan 02. It is a fund with Moderately High risk and has given a CAGR/Annualized return of 12.4% since its launch. \\xa0Ranked 75 in Index Fund category.  \\xa0Return for 2019 was 12.5% , 2018 was 3.8% and 2017 was 29.1% . ', 'key_information': {'Launch Date ': ' 17 Jan 02 ', 'NAV (29 Apr 20) ': ' ₹81.7599 ', 'Net Assets (Cr) ': ' ₹626 on 31 Mar 20 ', 'Category ': '- Index Fund', 'AMC ': ' SBI Funds Management Private Limited ', 'Rating ': '☆', 'Risk ': 'Moderately High', 'Expense Ratio ': '0.69', 'Sharpe Ratio ': '-1.15', 'Information Ratio ': '-4.49', 'Alpha Ratio ': '-0.85', 'Min Investment ': ' 5,000 ', 'Min SIP Investment ': ' 500 ', 'Exit Load ': ' 0-15 Days (0.2%),15 Days and above(NIL) '}, 'Growth_of_10000_investment_over_the_years': [{'Date': '31 Mar 15', 'Value': '₹10,000'}, {'Date': '31 Mar 16', 'Value': '₹9,128'}, {'Date': '31 Mar 17', 'Value': '₹10,862'}, {'Date': '31 Mar 18', 'Value': '₹12,034'}, {'Date': '31 Mar 19', 'Value': '₹13,900'}, {'Date': '31 Mar 20', 'Value': '₹10,280'}], 'Returns_data': [{'Duration': '3 Month', 'Returns': '-21.6%'}, {'Duration': '6 Month', 'Returns': '-19.5%'}, {'Duration': '1 Year', 'Returns': '-18.8%'}, {'Duration': '3 Year', 'Returns': '1.2%'}, {'Duration': '5 Year', 'Returns': '3.3%'}, {'Duration': '10 Year', 'Returns': None}, {'Duration': '15 Year', 'Returns': None}, {'Duration': 'Since launch', 'Returns': '12.4%'}], 'Historical_data': [{'Year': '2018', 'Returns': '3.8%'}, {'Year': '2017', 'Returns': '29.1%'}, {'Year': '2016', 'Returns': '3.4%'}, {'Year': '2015', 'Returns': '-4.2%'}, {'Year': '2014', 'Returns': '30.5%'}, {'Year': '2013', 'Returns': '6.2%'}, {'Year': '2012', 'Returns': '28.4%'}, {'Year': '2011', 'Returns': '-24.6%'}, {'Year': '2010', 'Returns': '18%'}], 'fund_manager_Details': [{'Name': 'Raviprakash Sharma', 'Since': '1 Feb 11', 'Tenure': '8.92 Yr.'}], 'Assest_Allocation_Details': [{'Asset_Class': 'Cash', 'Value': '2.95%'}, {'Asset_Class': 'Equity', 'Value': '97.05%'}], 'portfolio_Details': [{'Name': ' HDFC Bank Ltd (Financial Services)Equity, Since 31 Mar 03 | HDFCBANK', 'Holding': '10%', 'Value': '₹63 Cr', 'Quantity': '734,961 ↑ 234,521 '}, {'Name': ' Reliance Industries Ltd (Energy)Equity, Since 31 Jan 03 | RELIANCE', 'Holding': '10%', 'Value': '₹61 Cr', 'Quantity': '548,678 ↑ 174,655 '}, {'Name': ' Housing Development Finance Corp Ltd (Financial Services)Equity, Since 31 May 03 | HDFC', 'Holding': '8%', 'Value': '₹48 Cr', 'Quantity': '293,423 ↑ 93,770 '}, {'Name': ' Infosys Ltd (Technology)Equity, Since 31 Jan 03 | INFY', 'Holding': '6%', 'Value': '₹40 Cr', 'Quantity': '621,588 ↑ 197,904 '}, {'Name': ' ICICI Bank Ltd (Financial Services)Equity, Since 31 Jan 03 | ICICIBANK', 'Holding': '6%', 'Value': '₹36 Cr', 'Quantity': '1,098,430 ↑ 350,180 '}, {'Name': ' Treps CBLO/Reverse Repo  | -', 'Holding': '6%', 'Value': '₹35 Cr', 'Quantity': ''}, {'Name': ' Tata Consultancy Services Ltd (Technology)Equity, Since 28 Feb 05 | TCS', 'Holding': '5%', 'Value': '₹33 Cr', 'Quantity': '178,310 ↑ 56,754 '}, {'Name': ' Kotak Mahindra Bank Ltd (Financial Services)Equity, Since 31 Mar 12 | KOTAKBANK', 'Holding': '5%', 'Value': '₹29 Cr', 'Quantity': '227,195 ↑ 72,461 '}, {'Name': ' Hindustan Unilever Ltd (Consumer Defensive)Equity, Since 31 Jan 03 | 500696', 'Holding': '4%', 'Value': '₹28 Cr', 'Quantity': '121,240 ↑ 38,592 '}, {'Name': ' ITC Ltd (Consumer Defensive)Equity, Since 29 Feb 12 | ITC', 'Holding': '4%', 'Value': '₹25 Cr', 'Quantity': '1,481,144 ↑ 471,715 '}]}, {'title': 'IDBI Nifty Index Fund', 'description': ' IDBI Nifty Index Fund is a Others - Index Fund fund was launched on 25 Jun 10. It is a fund with Moderately High risk and has given a CAGR/Annualized return of 5.9% since its launch. \\xa0Ranked 83 in Index Fund category.  \\xa0Return for 2019 was 12.3% , 2018 was 2.8% and 2017 was 27.4% . ', 'key_information': {'Launch Date ': ' 25 Jun 10 ', 'NAV (29 Apr 20) ': ' ₹17.6022 ', 'Net Assets (Cr) ': ' ₹161 on 31 Mar 20 ', 'Category ': '- Index Fund', 'AMC ': ' IDBI Asset Management Limited ', 'Rating ': '☆', 'Risk ': 'Moderately High', 'Expense Ratio ': '1.38', 'Sharpe Ratio ': '-1.15', 'Information Ratio ': '-8.02', 'Alpha Ratio ': '-1.04', 'Min Investment ': ' 5,000 ', 'Min SIP Investment ': ' 500 ', 'Exit Load ': ' NIL '}, 'Growth_of_10000_investment_over_the_years': [{'Date': '31 Mar 15', 'Value': '₹10,000'}, {'Date': '31 Mar 16', 'Value': '₹9,083'}, {'Date': '31 Mar 17', 'Value': '₹10,691'}, {'Date': '31 Mar 18', 'Value': '₹11,682'}, {'Date': '31 Mar 19', 'Value': '₹13,407'}, {'Date': '31 Mar 20', 'Value': '₹9,937'}], 'Returns_data': [{'Duration': '3 Month', 'Returns': '-21.3%'}, {'Duration': '6 Month', 'Returns': '-19.2%'}, {'Duration': '1 Year', 'Returns': '-18.6%'}, {'Duration': '3 Year', 'Returns': '0.6%'}, {'Duration': '5 Year', 'Returns': '2.6%'}, {'Duration': '10 Year', 'Returns': None}, {'Duration': '15 Year', 'Returns': None}, {'Duration': 'Since launch', 'Returns': '5.9%'}], 'Historical_data': [{'Year': '2018', 'Returns': '2.8%'}, {'Year': '2017', 'Returns': '27.4%'}, {'Year': '2016', 'Returns': '2.4%'}, {'Year': '2015', 'Returns': '-4.4%'}, {'Year': '2014', 'Returns': '30.8%'}, {'Year': '2013', 'Returns': '7.2%'}, {'Year': '2012', 'Returns': '27.7%'}, {'Year': '2011', 'Returns': '-24.9%'}, {'Year': '2010', 'Returns': None}], 'fund_manager_Details': [{'Name': 'Firdaus Ragina', 'Since': '9 Oct 18', 'Tenure': '1.23 Yr.'}], 'Assest_Allocation_Details': [{'Asset_Class': 'Cash', 'Value': '0.33%'}, {'Asset_Class': 'Equity', 'Value': '99.67%'}], 'portfolio_Details': [{'Name': ' HDFC Bank Ltd (Financial Services)Equity, Since 30 Apr 11 | HDFCBANK', 'Holding': '10%', 'Value': '₹17 Cr', 'Quantity': '194,171 ↓ -252 '}, {'Name': ' Reliance Industries Ltd (Energy)Equity, Since 30 Apr 11 | RELIANCE', 'Holding': '10%', 'Value': '₹16 Cr', 'Quantity': '144,931 ↓ -379 '}, {'Name': ' Housing Development Finance Corp Ltd (Financial Services)Equity, Since 30 Apr 11 | HDFC', 'Holding': '8%', 'Value': '₹13 Cr', 'Quantity': '77,504 ↓ -62 '}, {'Name': ' Infosys Ltd (Technology)Equity, Since 30 Apr 11 | INFY', 'Holding': '7%', 'Value': '₹11 Cr', 'Quantity': '164,176 ↓ -439 '}, {'Name': ' ICICI Bank Ltd (Financial Services)Equity, Since 30 Apr 11 | ICICIBANK', 'Holding': '6%', 'Value': '₹9 Cr', 'Quantity': '290,137 ↓ -560 '}, {'Name': ' Tata Consultancy Services Ltd (Technology)Equity, Since 30 Apr 11 | TCS', 'Holding': '5%', 'Value': '₹9 Cr', 'Quantity': '47,099 ↓ -126 '}, {'Name': ' Kotak Mahindra Bank Ltd (Financial Services)Equity, Since 30 Apr 11 | KOTAKBANK', 'Holding': '5%', 'Value': '₹8 Cr', 'Quantity': '60,018 ↓ -96 '}, {'Name': ' Hindustan Unilever Ltd (Consumer Defensive)Equity, Since 30 Apr 11 | 500696', 'Holding': '5%', 'Value': '₹7 Cr', 'Quantity': '32,029 ↓ -82 '}, {'Name': ' ITC Ltd (Consumer Defensive)Equity, Since 30 Apr 11 | ITC', 'Holding': '4%', 'Value': '₹7 Cr', 'Quantity': '391,246 ↓ -925 '}, {'Name': ' Larsen & Toubro Ltd (Industrials)Equity, Since 30 Apr 11 | LT', 'Holding': '3%', 'Value': '₹4 Cr', 'Quantity': '55,388 ↓ -130 '}]}, {'title': 'Nippon India Index Fund - Nifty Plan', 'description': ' Nippon India Index Fund - Nifty Plan is a Others - Index Fund fund was launched on 28 Sep 10. It is a fund with Moderately High risk and has given a CAGR/Annualized return of 5% since its launch. \\xa0Ranked 78 in Index Fund category.  \\xa0Return for 2019 was 12.3% , 2018 was 3.5% and 2017 was 29% . ', 'key_information': {'Launch Date ': ' 28 Sep 10 ', 'NAV (29 Apr 20) ': ' ₹15.9455 ', 'Net Assets (Cr) ': ' ₹175 on 31 Mar 20 ', 'Category ': '- Index Fund', 'AMC ': ' Nippon Life Asset Management Ltd. ', 'Rating ': '☆', 'Risk ': 'Moderately High', 'Expense Ratio ': '0.97', 'Sharpe Ratio ': '-1.15', 'Information Ratio ': '-11.39', 'Alpha Ratio ': '-1.07', 'Min Investment ': ' 5,000 ', 'Min SIP Investment ': ' 100 ', 'Exit Load ': ' 0-7 Days (0.25%),7 Days and above(NIL) '}, 'Growth_of_10000_investment_over_the_years': [{'Date': '31 Mar 15', 'Value': '₹10,000'}, {'Date': '31 Mar 16', 'Value': '₹9,120'}, {'Date': '31 Mar 17', 'Value': '₹10,772'}, {'Date': '31 Mar 18', 'Value': '₹11,899'}, {'Date': '31 Mar 19', 'Value': '₹13,711'}, {'Date': '31 Mar 20', 'Value': '₹10,181'}], 'Returns_data': [{'Duration': '3 Month', 'Returns': '-21.4%'}, {'Duration': '6 Month', 'Returns': '-19.3%'}, {'Duration': '1 Year', 'Returns': '-18.7%'}, {'Duration': '3 Year', 'Returns': '1%'}, {'Duration': '5 Year', 'Returns': '3%'}, {'Duration': '10 Year', 'Returns': None}, {'Duration': '15 Year', 'Returns': None}, {'Duration': 'Since launch', 'Returns': '5%'}], 'Historical_data': [{'Year': '2018', 'Returns': '3.5%'}, {'Year': '2017', 'Returns': '29%'}, {'Year': '2016', 'Returns': '2.5%'}, {'Year': '2015', 'Returns': '-3.9%'}, {'Year': '2014', 'Returns': '31.9%'}, {'Year': '2013', 'Returns': '7.1%'}, {'Year': '2012', 'Returns': '29.1%'}, {'Year': '2011', 'Returns': '-24%'}, {'Year': '2010', 'Returns': None}], 'fund_manager_Details': [{'Name': 'Mehul Dama', 'Since': '6 Nov 18', 'Tenure': '1.15 Yr.'}], 'Assest_Allocation_Details': [{'Asset_Class': 'Cash', 'Value': '6.46%'}, {'Asset_Class': 'Equity', 'Value': '99.82%'}], 'portfolio_Details': [{'Name': ' HDFC Bank Ltd (Financial Services)Equity, Since 31 Oct 10 | HDFCBANK', 'Holding': '10%', 'Value': '₹18 Cr', 'Quantity': '211,028 ↑ 71,545 '}, {'Name': ' Reliance Industries Ltd (Energy)Equity, Since 31 Oct 10 | RELIANCE', 'Holding': '10%', 'Value': '₹18 Cr', 'Quantity': '157,541 ↑ 53,293 '}, {'Name': ' Housing Development Finance Corp Ltd (Financial Services)Equity, Since 31 Oct 10 | HDFC', 'Holding': '8%', 'Value': '₹14 Cr', 'Quantity': '84,250 ↑ 28,602 '}, {'Name': ' Infosys Ltd (Technology)Equity, Since 31 Oct 10 | INFY', 'Holding': '7%', 'Value': '₹11 Cr', 'Quantity': '178,475 ↑ 60,385 '}, {'Name': ' Triparty Repo CBLO/Reverse Repo  | -', 'Holding': '6%', 'Value': '₹11 Cr', 'Quantity': ''}, {'Name': ' Net Current Assets Receivables  | -', 'Holding': '6%', 'Value': '-₹11 Cr', 'Quantity': ''}, {'Name': ' ICICI Bank Ltd (Financial Services)Equity, Since 31 Oct 10 | ICICIBANK', 'Holding': '6%', 'Value': '₹10 Cr', 'Quantity': '315,390 ↑ 106,836 '}, {'Name': ' Tata Consultancy Services Ltd (Technology)Equity, Since 31 Oct 10 | TCS', 'Holding': '5%', 'Value': '₹9 Cr', 'Quantity': '51,197 ↑ 17,318 '}, {'Name': ' Kotak Mahindra Bank Ltd (Financial Services)Equity, Since 31 Aug 11 | KOTAKBANK', 'Holding': '5%', 'Value': '₹8 Cr', 'Quantity': '65,234 ↑ 22,107 '}, {'Name': ' Hindustan Unilever Ltd (Consumer Defensive)Equity, Since 31 Oct 10 | 500696', 'Holding': '5%', 'Value': '₹8 Cr', 'Quantity': '34,811 ↑ 11,775 '}]}, {'title': 'LIC MF Index Fund Nifty', 'description': ' LIC MF Index Fund Nifty is a Others - Index Fund fund was launched on 14 Nov 02. It is a fund with Moderately High risk and has given a CAGR/Annualized return of 10.6% since its launch. \\xa0Ranked 80 in Index Fund category.  \\xa0Return for 2019 was 12.6% , 2018 was 2.6% and 2017 was 28.6% . ', 'key_information': {'Launch Date ': ' 14 Nov 02 ', 'NAV (29 Apr 20) ': ' ₹52.7631 ', 'Net Assets (Cr) ': ' ₹19 on 31 Mar 20 ', 'Category ': '- Index Fund', 'AMC ': ' LIC Mutual Fund Asset Mgmt Co Ltd ', 'Rating ': '☆', 'Risk ': 'Moderately High', 'Expense Ratio ': '1.23', 'Sharpe Ratio ': '-1.13', 'Information Ratio ': '-3.85', 'Alpha Ratio ': '-0.53', 'Min Investment ': ' 5,000 ', 'Min SIP Investment ': ' 1,000 ', 'Exit Load ': ' 0-1 Months (1%),1 Months and above(NIL) '}, 'Growth_of_10000_investment_over_the_years': [{'Date': '31 Mar 15', 'Value': '₹10,000'}, {'Date': '31 Mar 16', 'Value': '₹9,132'}, {'Date': '31 Mar 17', 'Value': '₹10,773'}, {'Date': '31 Mar 18', 'Value': '₹11,813'}, {'Date': '31 Mar 19', 'Value': '₹13,572'}, {'Date': '31 Mar 20', 'Value': '₹10,105'}], 'Returns_data': [{'Duration': '3 Month', 'Returns': '-21.2%'}, {'Duration': '6 Month', 'Returns': '-18.9%'}, {'Duration': '1 Year', 'Returns': '-18.2%'}, {'Duration': '3 Year', 'Returns': '0.9%'}, {'Duration': '5 Year', 'Returns': '2.9%'}, {'Duration': '10 Year', 'Returns': None}, {'Duration': '15 Year', 'Returns': None}, {'Duration': 'Since launch', 'Returns': '10.6%'}], 'Historical_data': [{'Year': '2018', 'Returns': '2.6%'}, {'Year': '2017', 'Returns': '28.6%'}, {'Year': '2016', 'Returns': '2.7%'}, {'Year': '2015', 'Returns': '-4.1%'}, {'Year': '2014', 'Returns': '31.1%'}, {'Year': '2013', 'Returns': '6.5%'}, {'Year': '2012', 'Returns': '27.7%'}, {'Year': '2011', 'Returns': '-23.9%'}, {'Year': '2010', 'Returns': '18.2%'}], 'fund_manager_Details': [{'Name': 'Ritu Modi', 'Since': '1 Nov 19', 'Tenure': '0.41 Yr.'}], 'Assest_Allocation_Details': [{'Asset_Class': 'Cash', 'Value': '2.18%'}, {'Asset_Class': 'Equity', 'Value': '97.82%'}], 'portfolio_Details': [{'Name': ' HDFC Bank Ltd (Financial Services)Equity, Since 30 Apr 09 | HDFCBANK', 'Holding': '10%', 'Value': '₹2 Cr', 'Quantity': '22,795 ↑ 742 '}, {'Name': ' Reliance Industries Ltd (Energy)Equity, Since 31 Mar 12 | RELIANCE', 'Holding': '10%', 'Value': '₹2 Cr', 'Quantity': '16,986 ↑ 527 '}, {'Name': ' Housing Development Finance Corp Ltd (Financial Services)Equity, Since 31 Jan 03 | HDFC', 'Holding': '8%', 'Value': '₹1 Cr', 'Quantity': '9,089 ↑ 271 '}, {'Name': ' Infosys Ltd (Technology)Equity, Since 31 Jan 03 | INFY', 'Holding': '6%', 'Value': '₹1 Cr', 'Quantity': '19,273 ↑ 552 '}, {'Name': ' ICICI Bank Ltd (Financial Services)Equity, Since 30 Apr 09 | ICICIBANK', 'Holding': '6%', 'Value': '₹1 Cr', 'Quantity': '34,049 ↑ 977 '}, {'Name': ' Tata Consultancy Services Ltd (Technology)Equity, Since 31 Mar 05 | TCS', 'Holding': '5%', 'Value': '₹1 Cr', 'Quantity': '5,534 ↑ 155 '}, {'Name': ' Kotak Mahindra Bank Ltd (Financial Services)Equity, Since 30 Apr 10 | KOTAKBANK', 'Holding': '5%', 'Value': '₹1 Cr', 'Quantity': '7,040 ↑ 201 '}, {'Name': ' Hindustan Unilever Ltd (Consumer Defensive)Equity, Since 31 Oct 11 | 500696', 'Holding': '5%', 'Value': '₹1 Cr', 'Quantity': '3,764 ↑ 110 '}, {'Name': ' ITC Ltd (Consumer Defensive)Equity, Since 31 Jan 03 | ITC', 'Holding': '4%', 'Value': '₹1 Cr', 'Quantity': '45,487 ↑ 1,617 '}, {'Name': ' Treps CBLO/Reverse Repo  | -', 'Holding': '3%', 'Value': '₹1 Cr', 'Quantity': ''}]}, {'title': ' ICICI Prudential Nifty Next 50 Index Fund', 'description': ' ICICI Prudential Nifty Next 50 Index Fund is a Others - Index Fund fund was launched on 25 Jun 10. It is a fund with Moderately High risk and has given a CAGR/Annualized return of 7.8% since its launch. \\xa0Ranked 5 in Index Fund category.  \\xa0Return for 2019 was 0.6% , 2018 was -8.8% and 2017 was 45.7% . ', 'key_information': {'Launch Date ': ' 25 Jun 10 ', 'NAV (29 Apr 20) ': ' ₹20.8799 ', 'Net Assets (Cr) ': ' ₹597 on 31 Mar 20 ', 'Category ': '- Index Fund', 'AMC ': ' ICICI Prudential Asset Management Company Limited ', 'Rating ': '☆', 'Risk ': 'Moderately High', 'Expense Ratio ': '0.85', 'Sharpe Ratio ': '-1.31', 'Information Ratio ': '-4.26', 'Alpha Ratio ': '-1', 'Min Investment ': ' 5,000 ', 'Min SIP Investment ': ' 100 ', 'Exit Load ': ' 0-7 Days (0.25%),7 Days and above(NIL) '}, 'Growth_of_10000_investment_over_the_years': [{'Date': '31 Mar 15', 'Value': '₹10,000'}, {'Date': '31 Mar 16', 'Value': '₹9,677'}, {'Date': '31 Mar 17', 'Value': '₹13,035'}, {'Date': '31 Mar 18', 'Value': '₹14,851'}, {'Date': '31 Mar 19', 'Value': '₹14,714'}, {'Date': '31 Mar 20', 'Value': '₹10,985'}], 'Returns_data': [{'Duration': '3 Month', 'Returns': '-18.8%'}, {'Duration': '6 Month', 'Returns': '-17.2%'}, {'Duration': '1 Year', 'Returns': '-15.5%'}, {'Duration': '3 Year', 'Returns': '-3.6%'}, {'Duration': '5 Year', 'Returns': '4.5%'}, {'Duration': '10 Year', 'Returns': None}, {'Duration': '15 Year', 'Returns': None}, {'Duration': 'Since launch', 'Returns': '7.8%'}], 'Historical_data': [{'Year': '2018', 'Returns': '-8.8%'}, {'Year': '2017', 'Returns': '45.7%'}, {'Year': '2016', 'Returns': '7.6%'}, {'Year': '2015', 'Returns': '6.2%'}, {'Year': '2014', 'Returns': '43.6%'}, {'Year': '2013', 'Returns': '5.4%'}, {'Year': '2012', 'Returns': '44.9%'}, {'Year': '2011', 'Returns': '-30.8%'}, {'Year': '2010', 'Returns': None}], 'fund_manager_Details': [{'Name': 'Kayzad Eghlim', 'Since': '25 Jun 10', 'Tenure': '9.52 Yr.'}], 'Assest_Allocation_Details': [{'Asset_Class': 'Cash', 'Value': '0.19%'}, {'Asset_Class': 'Equity', 'Value': '99.81%'}], 'portfolio_Details': [{'Name': ' Avenue Supermarts Ltd (Consumer Defensive)Equity, Since 30 Sep 17 | 540376', 'Holding': '6%', 'Value': '₹34 Cr', 'Quantity': '156,297 ↑ 26,467 '}, {'Name': ' Dabur India Ltd (Consumer Defensive)Equity, Since 31 Oct 11 | 500096', 'Holding': '5%', 'Value': '₹27 Cr', 'Quantity': '606,980 ↑ 108,582 '}, {'Name': \" Divi's Laboratories Ltd (Healthcare)Equity, Since 31 Mar 19 | DIVISLAB\", 'Holding': '5%', 'Value': '₹27 Cr', 'Quantity': '135,606 ↑ 22,745 '}, {'Name': ' HDFC Life Insurance Co Ltd (Financial Services)Equity, Since 30 Sep 18 | 540777', 'Holding': '4%', 'Value': '₹26 Cr', 'Quantity': '594,574 ↑ 76,244 '}, {'Name': ' SBI Life Insurance Co Ltd (Financial Services)Equity, Since 31 Mar 18 | 540719', 'Holding': '4%', 'Value': '₹25 Cr', 'Quantity': '383,900 ↑ 59,347 '}, {'Name': ' ICICI Lombard General Insurance Co Ltd (Financial Services)Equity, Since 30 Sep 18 | 540716', 'Holding': '4%', 'Value': '₹22 Cr', 'Quantity': '207,938 ↑ 33,760 '}, {'Name': ' Pidilite Industries Ltd (Basic Materials)Equity, Since 30 Apr 16 | PIDILITIND', 'Holding': '4%', 'Value': '₹22 Cr', 'Quantity': '161,317 ↑ 26,042 '}, {'Name': ' Godrej Consumer Products Ltd (Consumer Defensive)Equity, Since 30 Sep 12 | 532424', 'Holding': '3%', 'Value': '₹21 Cr', 'Quantity': '396,810 ↑ 67,972 '}, {'Name': ' Colgate-Palmolive (India) Ltd (Consumer Defensive)Equity, Since 31 Mar 12 | 500830', 'Holding': '3%', 'Value': '₹18 Cr', 'Quantity': '139,811 ↑ 23,626 '}, {'Name': ' Petronet LNG Ltd (Energy)Equity, Since 31 Mar 17 | 532522', 'Holding': '3%', 'Value': '₹16 Cr', 'Quantity': '788,751 ↑ 135,728 '}]}]\n"
          ],
          "name": "stdout"
        }
      ]
    },
    {
      "cell_type": "code",
      "metadata": {
        "id": "wged7oMpAHuT",
        "colab_type": "code",
        "outputId": "3da4a9c6-25ec-4bf2-d4c4-c43bb4da65b3",
        "colab": {
          "base_uri": "https://localhost:8080/",
          "height": 1000
        }
      },
      "source": [
        "for i in final_output[:1]:\n",
        "  pprint(i)"
      ],
      "execution_count": 56,
      "outputs": [
        {
          "output_type": "stream",
          "text": [
            "{'Assest_Allocation_Details': [{'Asset_Class': 'Cash', 'Value': '0.79%'},\n",
            "                               {'Asset_Class': 'Equity', 'Value': '99.21%'}],\n",
            " 'Growth_of_10000_investment_over_the_years': [{'Date': '31 Mar 15',\n",
            "                                                'Value': '₹10,000'},\n",
            "                                               {'Date': '31 Mar 16',\n",
            "                                                'Value': '₹9,146'},\n",
            "                                               {'Date': '31 Mar 17',\n",
            "                                                'Value': '₹10,861'},\n",
            "                                               {'Date': '31 Mar 18',\n",
            "                                                'Value': '₹12,009'},\n",
            "                                               {'Date': '31 Mar 19',\n",
            "                                                'Value': '₹12,451'},\n",
            "                                               {'Date': '31 Mar 20',\n",
            "                                                'Value': '₹8,714'}],\n",
            " 'Historical_data': [{'Returns': '-3.4%', 'Year': '2018'},\n",
            "                     {'Returns': '28.9%', 'Year': '2017'},\n",
            "                     {'Returns': '3.4%', 'Year': '2016'},\n",
            "                     {'Returns': '-3.9%', 'Year': '2015'},\n",
            "                     {'Returns': '31.2%', 'Year': '2014'},\n",
            "                     {'Returns': '7.7%', 'Year': '2013'},\n",
            "                     {'Returns': '27.2%', 'Year': '2012'},\n",
            "                     {'Returns': '-24.3%', 'Year': '2011'},\n",
            "                     {'Returns': '17.6%', 'Year': '2010'}],\n",
            " 'Returns_data': [{'Duration': '3 Month', 'Returns': '-22.6%'},\n",
            "                  {'Duration': '6 Month', 'Returns': '-21.1%'},\n",
            "                  {'Duration': '1 Year', 'Returns': '-22.1%'},\n",
            "                  {'Duration': '3 Year', 'Returns': '-4.1%'},\n",
            "                  {'Duration': '5 Year', 'Returns': '0%'},\n",
            "                  {'Duration': '10 Year', 'Returns': None},\n",
            "                  {'Duration': '15 Year', 'Returns': None},\n",
            "                  {'Duration': 'Since launch', 'Returns': None}],\n",
            " 'description': ' Principal Nifty 100 Equal Weight Fund is a Others - Index '\n",
            "                'Fund fund was launched on 27 Jul 99. It is a fund with '\n",
            "                'Moderately High risk and has given a CAGR/Annualized return '\n",
            "                'of  since its launch. \\xa0Ranked 72 in Index Fund '\n",
            "                'category.  \\xa0Return for 2019 was 2.8% , 2018 was -3.4% and '\n",
            "                '2017 was 28.9% . ',\n",
            " 'fund_manager_Details': [{'Name': 'Rajat Jain',\n",
            "                           'Since': '21 Aug 15',\n",
            "                           'Tenure': '4.36 Yr.'}],\n",
            " 'key_information': {'AMC ': ' Principal Pnb Asset Mgmt. Co. Priv. Ltd. ',\n",
            "                     'Alpha Ratio ': '0',\n",
            "                     'Category ': '- Index Fund',\n",
            "                     'Exit Load ': ' 0-90 Days (1%),90 Days and above(NIL) ',\n",
            "                     'Expense Ratio ': '0.9',\n",
            "                     'Information Ratio ': '0',\n",
            "                     'Launch Date ': ' 27 Jul 99 ',\n",
            "                     'Min Investment ': ' 5,000 ',\n",
            "                     'Min SIP Investment ': ' 500 ',\n",
            "                     'NAV (29 Apr 20) ': ' ₹56.6431 ',\n",
            "                     'Net Assets (Cr) ': ' ₹12 on 31 Mar 20 ',\n",
            "                     'Rating ': '☆',\n",
            "                     'Risk ': 'Moderately High',\n",
            "                     'Sharpe Ratio ': '-1.36'},\n",
            " 'portfolio_Details': [{'Holding': '1%',\n",
            "                        'Name': ' The New India Assurance Co Ltd (Financial '\n",
            "                                'Services)Equity, Since 30 Sep 18 | 540769',\n",
            "                        'Quantity': '15,161 ↑ 2,962 ',\n",
            "                        'Value': '₹0 Cr'},\n",
            "                       {'Holding': '1%',\n",
            "                        'Name': ' Adani Transmission Ltd (Utilities)Equity, '\n",
            "                                'Since 31 Mar 20 | 539254',\n",
            "                        'Quantity': '8,169 ↑ 8,169 ',\n",
            "                        'Value': '₹0 Cr'},\n",
            "                       {'Holding': '1%',\n",
            "                        'Name': ' NMDC Ltd (Basic Materials)Equity, Since 31 '\n",
            "                                'May 18 | 526371',\n",
            "                        'Quantity': '19,043 ↑ 4,697 ',\n",
            "                        'Value': '₹0 Cr'},\n",
            "                       {'Holding': '1%',\n",
            "                        'Name': ' ITC Ltd (Consumer Defensive)Equity, Since 31 '\n",
            "                                'Jan 03 | ITC',\n",
            "                        'Quantity': '8,806 ↑ 1,611 ',\n",
            "                        'Value': '₹0 Cr'},\n",
            "                       {'Holding': '1%',\n",
            "                        'Name': ' Cadila Healthcare Ltd (Healthcare)Equity, '\n",
            "                                'Since 31 May 18 | 532321',\n",
            "                        'Quantity': '5,650 ↓ -1,109 ',\n",
            "                        'Value': '₹0 Cr'},\n",
            "                       {'Holding': '1%',\n",
            "                        'Name': ' Hindustan Unilever Ltd (Consumer '\n",
            "                                'Defensive)Equity, Since 31 Jan 03 | 500696',\n",
            "                        'Quantity': '651 ↓ -256 ',\n",
            "                        'Value': '₹0 Cr'},\n",
            "                       {'Holding': '1%',\n",
            "                        'Name': ' Aurobindo Pharma Ltd (Healthcare)Equity, '\n",
            "                                'Since 31 May 18 | AUROPHARMA',\n",
            "                        'Quantity': '3,574 ↓ -237 ',\n",
            "                        'Value': '₹0 Cr'},\n",
            "                       {'Holding': '1%',\n",
            "                        'Name': ' Hindustan Zinc Ltd (Basic Materials)Equity, '\n",
            "                                'Since 31 May 18 | 500188',\n",
            "                        'Quantity': '9,459 ↑ 924 ',\n",
            "                        'Value': '₹0 Cr'},\n",
            "                       {'Holding': '1%',\n",
            "                        'Name': ' Procter & Gamble Hygiene and Health Care Ltd '\n",
            "                                '(Consumer Defensive)Equity, Since 31 May 18 | '\n",
            "                                'PGHH',\n",
            "                        'Quantity': '143 ↓ -13 ',\n",
            "                        'Value': '₹0 Cr'},\n",
            "                       {'Holding': '1%',\n",
            "                        'Name': \" Dr Reddy's Laboratories Ltd \"\n",
            "                                '(Healthcare)Equity, Since 31 Oct 10 | 500124',\n",
            "                        'Quantity': '470 ↓ -138 ',\n",
            "                        'Value': '₹0 Cr'}],\n",
            " 'title': 'Principal Nifty 100 Equal Weight Fund'}\n"
          ],
          "name": "stdout"
        }
      ]
    },
    {
      "cell_type": "code",
      "metadata": {
        "id": "j2Dql5yDAHrV",
        "colab_type": "code",
        "outputId": "069394ba-21f2-4f2a-9164-d895cacabd4c",
        "colab": {
          "base_uri": "https://localhost:8080/",
          "height": 224
        }
      },
      "source": [
        "newline_string=\"\"\n",
        "import json\n",
        "for i in final_output:\n",
        "   newline_string=newline_string + json.dumps(i) + \"\\n\"\n",
        "\n",
        "print(newline_string)"
      ],
      "execution_count": 23,
      "outputs": [
        {
          "output_type": "stream",
          "text": [
            "{\"title\": \"1. Principal Nifty 100 Equal Weight Fund\", \"description\": \" Principal Nifty 100 Equal Weight Fund is a Others - Index Fund fund was launched on 27 Jul 99. It is a fund with Moderately High risk and has given a CAGR/Annualized return of  since its launch. \\u00a0Ranked 72 in Index Fund category.  \\u00a0Return for 2019 was 2.8% , 2018 was -3.4% and 2017 was 28.9% . \", \"Growth_of_10000_investment_over_the_years\": [{\"Date\": \"31 Mar 15\", \"Value\": \"\\u20b910,000\"}, {\"Date\": \"31 Mar 16\", \"Value\": \"\\u20b99,146\"}, {\"Date\": \"31 Mar 17\", \"Value\": \"\\u20b910,861\"}, {\"Date\": \"31 Mar 18\", \"Value\": \"\\u20b912,009\"}, {\"Date\": \"31 Mar 19\", \"Value\": \"\\u20b912,451\"}, {\"Date\": \"31 Mar 20\", \"Value\": \"\\u20b98,714\"}], \"Returns_data\": [{\"Duration\": \"3 Month\", \"Returns\": \"-22.6%\"}, {\"Duration\": \"6 Month\", \"Returns\": \"-21.1%\"}, {\"Duration\": \"1 Year\", \"Returns\": \"-22.1%\"}, {\"Duration\": \"3 Year\", \"Returns\": \"-4.1%\"}, {\"Duration\": \"5 Year\", \"Returns\": \"0%\"}, {\"Duration\": \"10 Year\", \"Returns\": null}, {\"Duration\": \"15 Year\", \"Returns\": null}, {\"Duration\": \"Since launch\", \"Returns\": null}], \"Historical_data\": [{\"Year\": \"2018\", \"Returns\": \"-3.4%\"}, {\"Year\": \"2017\", \"Returns\": \"28.9%\"}, {\"Year\": \"2016\", \"Returns\": \"3.4%\"}, {\"Year\": \"2015\", \"Returns\": \"-3.9%\"}, {\"Year\": \"2014\", \"Returns\": \"31.2%\"}, {\"Year\": \"2013\", \"Returns\": \"7.7%\"}, {\"Year\": \"2012\", \"Returns\": \"27.2%\"}, {\"Year\": \"2011\", \"Returns\": \"-24.3%\"}, {\"Year\": \"2010\", \"Returns\": \"17.6%\"}], \"fund_manager_Details\": [{\"Name\": \"Rajat Jain\", \"Since\": \"21 Aug 15\", \"Tenure\": \"4.36 Yr.\"}], \"Assest_Allocation_Details\": [{\"Asset_Class\": \"Cash\", \"Value\": \"0.79%\"}, {\"Asset_Class\": \"Equity\", \"Value\": \"99.21%\"}], \"portfolio_Details\": [{\"Name\": \" The New India Assurance Co Ltd (Financial Services)Equity, Since 30 Sep 18 | 540769\", \"Holding\": \"1%\", \"Value\": \"\\u20b90 Cr\", \"Quantity\": \"15,161 \\u2191 2,962 \"}, {\"Name\": \" Adani Transmission Ltd (Utilities)Equity, Since 31 Mar 20 | 539254\", \"Holding\": \"1%\", \"Value\": \"\\u20b90 Cr\", \"Quantity\": \"8,169 \\u2191 8,169 \"}, {\"Name\": \" NMDC Ltd (Basic Materials)Equity, Since 31 May 18 | 526371\", \"Holding\": \"1%\", \"Value\": \"\\u20b90 Cr\", \"Quantity\": \"19,043 \\u2191 4,697 \"}, {\"Name\": \" ITC Ltd (Consumer Defensive)Equity, Since 31 Jan 03 | ITC\", \"Holding\": \"1%\", \"Value\": \"\\u20b90 Cr\", \"Quantity\": \"8,806 \\u2191 1,611 \"}, {\"Name\": \" Cadila Healthcare Ltd (Healthcare)Equity, Since 31 May 18 | 532321\", \"Holding\": \"1%\", \"Value\": \"\\u20b90 Cr\", \"Quantity\": \"5,650 \\u2193 -1,109 \"}, {\"Name\": \" Hindustan Unilever Ltd (Consumer Defensive)Equity, Since 31 Jan 03 | 500696\", \"Holding\": \"1%\", \"Value\": \"\\u20b90 Cr\", \"Quantity\": \"651 \\u2193 -256 \"}, {\"Name\": \" Aurobindo Pharma Ltd (Healthcare)Equity, Since 31 May 18 | AUROPHARMA\", \"Holding\": \"1%\", \"Value\": \"\\u20b90 Cr\", \"Quantity\": \"3,574 \\u2193 -237 \"}, {\"Name\": \" Hindustan Zinc Ltd (Basic Materials)Equity, Since 31 May 18 | 500188\", \"Holding\": \"1%\", \"Value\": \"\\u20b90 Cr\", \"Quantity\": \"9,459 \\u2191 924 \"}, {\"Name\": \" Procter & Gamble Hygiene and Health Care Ltd (Consumer Defensive)Equity, Since 31 May 18 | PGHH\", \"Holding\": \"1%\", \"Value\": \"\\u20b90 Cr\", \"Quantity\": \"143 \\u2193 -13 \"}, {\"Name\": \" Dr Reddy's Laboratories Ltd (Healthcare)Equity, Since 31 Oct 10 | 500124\", \"Holding\": \"1%\", \"Value\": \"\\u20b90 Cr\", \"Quantity\": \"470 \\u2193 -138 \"}]}\n",
            "{\"title\": \"2. ICICI Prudential Nifty Index Fund\", \"description\": \" ICICI Prudential Nifty Index Fund is a Others - Index Fund fund was launched on 26 Feb 02. It is a fund with Moderately High risk and has given a CAGR/Annualized return of 13% since its launch. \\u00a0Ranked 71 in Index Fund category.  \\u00a0Return for 2019 was 12.8% , 2018 was 3.4% and 2017 was 28.7% . \", \"Growth_of_10000_investment_over_the_years\": [{\"Date\": \"31 Mar 15\", \"Value\": \"\\u20b910,000\"}, {\"Date\": \"31 Mar 16\", \"Value\": \"\\u20b99,177\"}, {\"Date\": \"31 Mar 17\", \"Value\": \"\\u20b910,904\"}, {\"Date\": \"31 Mar 18\", \"Value\": \"\\u20b912,039\"}, {\"Date\": \"31 Mar 19\", \"Value\": \"\\u20b913,864\"}, {\"Date\": \"31 Mar 20\", \"Value\": \"\\u20b910,344\"}], \"Returns_data\": [{\"Duration\": \"3 Month\", \"Returns\": \"-21.1%\"}, {\"Duration\": \"6 Month\", \"Returns\": \"-18.9%\"}, {\"Duration\": \"1 Year\", \"Returns\": \"-18%\"}, {\"Duration\": \"3 Year\", \"Returns\": \"1.3%\"}, {\"Duration\": \"5 Year\", \"Returns\": \"3.4%\"}, {\"Duration\": \"10 Year\", \"Returns\": null}, {\"Duration\": \"15 Year\", \"Returns\": null}, {\"Duration\": \"Since launch\", \"Returns\": \"13%\"}], \"Historical_data\": [{\"Year\": \"2018\", \"Returns\": \"3.4%\"}, {\"Year\": \"2017\", \"Returns\": \"28.7%\"}, {\"Year\": \"2016\", \"Returns\": \"3.6%\"}, {\"Year\": \"2015\", \"Returns\": \"-3.6%\"}, {\"Year\": \"2014\", \"Returns\": \"32.5%\"}, {\"Year\": \"2013\", \"Returns\": \"7.9%\"}, {\"Year\": \"2012\", \"Returns\": \"26.5%\"}, {\"Year\": \"2011\", \"Returns\": \"-23.6%\"}, {\"Year\": \"2010\", \"Returns\": \"18.7%\"}], \"fund_manager_Details\": [{\"Name\": \"Kayzad Eghlim\", \"Since\": \"1 Aug 09\", \"Tenure\": \"10.42 Yr.\"}], \"Assest_Allocation_Details\": [{\"Asset_Class\": \"Cash\", \"Value\": \"0.98%\"}, {\"Asset_Class\": \"Equity\", \"Value\": \"99.02%\"}], \"portfolio_Details\": [{\"Name\": \" Reliance Industries Ltd (Energy)Equity, Since 31 Mar 05 | RELIANCE\", \"Holding\": \"10%\", \"Value\": \"\\u20b969 Cr\", \"Quantity\": \"620,123 \\u2191 234,827 \"}, {\"Name\": \" HDFC Bank Ltd (Financial Services)Equity, Since 31 Mar 05 | HDFCBANK\", \"Holding\": \"10%\", \"Value\": \"\\u20b968 Cr\", \"Quantity\": \"790,143 \\u2191 271,627 \"}, {\"Name\": \" Housing Development Finance Corp Ltd (Financial Services)Equity, Since 31 Mar 12 | HDFC\", \"Holding\": \"8%\", \"Value\": \"\\u20b952 Cr\", \"Quantity\": \"321,464 \\u2191 114,366 \"}, {\"Name\": \" Infosys Ltd (Technology)Equity, Since 31 Mar 05 | INFY\", \"Holding\": \"7%\", \"Value\": \"\\u20b945 Cr\", \"Quantity\": \"705,711 \\u2191 272,173 \"}, {\"Name\": \" ICICI Bank Ltd (Financial Services)Equity, Since 31 Mar 05 | ICICIBANK\", \"Holding\": \"6%\", \"Value\": \"\\u20b941 Cr\", \"Quantity\": \"1,262,639 \\u2191 484,174 \"}, {\"Name\": \" Tata Consultancy Services Ltd (Technology)Equity, Since 31 Mar 05 | TCS\", \"Holding\": \"5%\", \"Value\": \"\\u20b938 Cr\", \"Quantity\": \"206,079 \\u2191 81,035 \"}, {\"Name\": \" Kotak Mahindra Bank Ltd (Financial Services)Equity, Since 29 Feb 12 | KOTAKBANK\", \"Holding\": \"5%\", \"Value\": \"\\u20b933 Cr\", \"Quantity\": \"254,450 \\u2191 92,674 \"}, {\"Name\": \" Hindustan Unilever Ltd (Consumer Defensive)Equity, Since 31 Mar 05 | 500696\", \"Holding\": \"5%\", \"Value\": \"\\u20b932 Cr\", \"Quantity\": \"137,452 \\u2191 51,598 \"}, {\"Name\": \" ITC Ltd (Consumer Defensive)Equity, Since 29 Feb 12 | ITC\", \"Holding\": \"4%\", \"Value\": \"\\u20b928 Cr\", \"Quantity\": \"1,658,819 \\u2191 615,042 \"}, {\"Name\": \" Larsen & Toubro Ltd (Industrials)Equity, Since 29 Feb 12 | LT\", \"Holding\": \"3%\", \"Value\": \"\\u20b919 Cr\", \"Quantity\": \"234,552 \\u2191 84,094 \"}]}\n",
            "{\"title\": \"3. UTI Nifty Index Fund\", \"description\": \" UTI Nifty Index Fund is a Others - Index Fund fund was launched on 6 Mar 00. It is a fund with Moderately High risk and has given a CAGR/Annualized return of 9.5% since its launch. \\u00a0Ranked 68 in Index Fund category.  \\u00a0Return for 2019 was 13.2% , 2018 was 4.3% and 2017 was 29.7% . \", \"Growth_of_10000_investment_over_the_years\": [{\"Date\": \"31 Mar 15\", \"Value\": \"\\u20b910,000\"}, {\"Date\": \"31 Mar 16\", \"Value\": \"\\u20b99,186\"}, {\"Date\": \"31 Mar 17\", \"Value\": \"\\u20b910,979\"}, {\"Date\": \"31 Mar 18\", \"Value\": \"\\u20b912,241\"}, {\"Date\": \"31 Mar 19\", \"Value\": \"\\u20b914,198\"}, {\"Date\": \"31 Mar 20\", \"Value\": \"\\u20b910,591\"}], \"Returns_data\": [{\"Duration\": \"3 Month\", \"Returns\": \"-21.3%\"}, {\"Duration\": \"6 Month\", \"Returns\": \"-19%\"}, {\"Duration\": \"1 Year\", \"Returns\": \"-18%\"}, {\"Duration\": \"3 Year\", \"Returns\": \"1.9%\"}, {\"Duration\": \"5 Year\", \"Returns\": \"3.9%\"}, {\"Duration\": \"10 Year\", \"Returns\": null}, {\"Duration\": \"15 Year\", \"Returns\": null}, {\"Duration\": \"Since launch\", \"Returns\": \"9.5%\"}], \"Historical_data\": [{\"Year\": \"2018\", \"Returns\": \"4.3%\"}, {\"Year\": \"2017\", \"Returns\": \"29.7%\"}, {\"Year\": \"2016\", \"Returns\": \"4%\"}, {\"Year\": \"2015\", \"Returns\": \"-3.3%\"}, {\"Year\": \"2014\", \"Returns\": \"31.8%\"}, {\"Year\": \"2013\", \"Returns\": \"6.9%\"}, {\"Year\": \"2012\", \"Returns\": \"28.3%\"}, {\"Year\": \"2011\", \"Returns\": \"-24.8%\"}, {\"Year\": \"2010\", \"Returns\": \"17.7%\"}], \"fund_manager_Details\": [{\"Name\": \"Sharwan Kumar Goyal\", \"Since\": \"1 May 19\", \"Tenure\": \"0.67 Yr.\"}], \"Assest_Allocation_Details\": [{\"Asset_Class\": \"Equity\", \"Value\": \"100.19%\"}], \"portfolio_Details\": [{\"Name\": \" HDFC Bank Ltd (Financial Services)Equity, Since 31 Jan 10 | HDFCBANK\", \"Holding\": \"10%\", \"Value\": \"\\u20b9181 Cr\", \"Quantity\": \"2,095,284 \\u2191 348,201 \"}, {\"Name\": \" Reliance Industries Ltd (Energy)Equity, Since 31 Jan 03 | RELIANCE\", \"Holding\": \"10%\", \"Value\": \"\\u20b9174 Cr\", \"Quantity\": \"1,564,152 \\u2191 258,403 \"}, {\"Name\": \" Housing Development Finance Corp Ltd (Financial Services)Equity, Since 31 Mar 12 | HDFC\", \"Holding\": \"8%\", \"Value\": \"\\u20b9137 Cr\", \"Quantity\": \"836,476 \\u2191 139,460 \"}, {\"Name\": \" Infosys Ltd (Technology)Equity, Since 31 Jan 03 | INFY\", \"Holding\": \"7%\", \"Value\": \"\\u20b9114 Cr\", \"Quantity\": \"1,771,990 \\u2191 292,868 \"}, {\"Name\": \" ICICI Bank Ltd (Financial Services)Equity, Since 31 Jan 03 | ICICIBANK\", \"Holding\": \"6%\", \"Value\": \"\\u20b9101 Cr\", \"Quantity\": \"3,131,345 \\u2191 519,131 \"}, {\"Name\": \" Tata Consultancy Services Ltd (Technology)Equity, Since 28 Feb 05 | TCS\", \"Holding\": \"5%\", \"Value\": \"\\u20b993 Cr\", \"Quantity\": \"508,315 \\u2191 83,973 \"}, {\"Name\": \" Kotak Mahindra Bank Ltd (Financial Services)Equity, Since 31 Dec 10 | KOTAKBANK\", \"Holding\": \"5%\", \"Value\": \"\\u20b984 Cr\", \"Quantity\": \"647,677 \\u2191 107,495 \"}, {\"Name\": \" Hindustan Unilever Ltd (Consumer Defensive)Equity, Since 31 Jan 03 | 500696\", \"Holding\": \"5%\", \"Value\": \"\\u20b979 Cr\", \"Quantity\": \"345,624 \\u2191 57,103 \"}, {\"Name\": \" ITC Ltd (Consumer Defensive)Equity, Since 31 Jan 03 | ITC\", \"Holding\": \"4%\", \"Value\": \"\\u20b972 Cr\", \"Quantity\": \"4,222,366 \\u2191 698,429 \"}, {\"Name\": \" Larsen & Toubro Ltd (Industrials)Equity, Since 31 Dec 04 | LT\", \"Holding\": \"3%\", \"Value\": \"\\u20b948 Cr\", \"Quantity\": \"597,637 \\u2191 98,784 \"}]}\n",
            "{\"title\": \"4. IDFC Nifty Fund\", \"description\": \" IDFC Nifty Fund is a Others - Index Fund fund was launched on 30 Apr 10. It is a fund with Moderately High risk and has given a CAGR/Annualized return of 7.2% since its launch. \\u00a0Ranked 70 in Index Fund category.  \\u00a0Return for 2019 was 12.9% , 2018 was 4.4% and 2017 was 29.5% . \", \"Growth_of_10000_investment_over_the_years\": [{\"Date\": \"31 Mar 15\", \"Value\": \"\\u20b910,000\"}, {\"Date\": \"31 Mar 16\", \"Value\": \"\\u20b99,187\"}, {\"Date\": \"31 Mar 17\", \"Value\": \"\\u20b910,965\"}, {\"Date\": \"31 Mar 18\", \"Value\": \"\\u20b912,214\"}, {\"Date\": \"31 Mar 19\", \"Value\": \"\\u20b914,159\"}, {\"Date\": \"31 Mar 20\", \"Value\": \"\\u20b910,658\"}], \"Returns_data\": [{\"Duration\": \"3 Month\", \"Returns\": \"-20.4%\"}, {\"Duration\": \"6 Month\", \"Returns\": \"-18.2%\"}, {\"Duration\": \"1 Year\", \"Returns\": \"-17.3%\"}, {\"Duration\": \"3 Year\", \"Returns\": \"2.1%\"}, {\"Duration\": \"5 Year\", \"Returns\": \"4.1%\"}, {\"Duration\": \"10 Year\", \"Returns\": null}, {\"Duration\": \"15 Year\", \"Returns\": null}, {\"Duration\": \"Since launch\", \"Returns\": \"7.2%\"}], \"Historical_data\": [{\"Year\": \"2018\", \"Returns\": \"4.4%\"}, {\"Year\": \"2017\", \"Returns\": \"29.5%\"}, {\"Year\": \"2016\", \"Returns\": \"3.9%\"}, {\"Year\": \"2015\", \"Returns\": \"-3.5%\"}, {\"Year\": \"2014\", \"Returns\": \"32.5%\"}, {\"Year\": \"2013\", \"Returns\": \"7.5%\"}, {\"Year\": \"2012\", \"Returns\": \"29.9%\"}, {\"Year\": \"2011\", \"Returns\": \"-23.8%\"}, {\"Year\": \"2010\", \"Returns\": null}], \"fund_manager_Details\": [{\"Name\": \"Arpit Kapoor\", \"Since\": \"1 Mar 17\", \"Tenure\": \"2.84 Yr.\"}], \"Assest_Allocation_Details\": [{\"Asset_Class\": \"Cash\", \"Value\": \"0.62%\"}, {\"Asset_Class\": \"Equity\", \"Value\": \"99.37%\"}, {\"Asset_Class\": \"Debt\", \"Value\": \"0.01%\"}], \"portfolio_Details\": [{\"Name\": \" HDFC Bank Ltd (Financial Services)Equity, Since 30 Apr 10 | HDFCBANK\", \"Holding\": \"11%\", \"Value\": \"\\u20b918 Cr\", \"Quantity\": \"210,639 \\u2191 43,606 \"}, {\"Name\": \" Reliance Industries Ltd (Energy)Equity, Since 30 Apr 10 | RELIANCE\", \"Holding\": \"9%\", \"Value\": \"\\u20b915 Cr\", \"Quantity\": \"135,418 \\u2191 10,548 \"}, {\"Name\": \" Housing Development Finance Corp Ltd (Financial Services)Equity, Since 30 Apr 10 | HDFC\", \"Holding\": \"8%\", \"Value\": \"\\u20b913 Cr\", \"Quantity\": \"78,851 \\u2191 12,210 \"}, {\"Name\": \" ICICI Bank Ltd (Financial Services)Equity, Since 30 Apr 10 | ICICIBANK\", \"Holding\": \"6%\", \"Value\": \"\\u20b911 Cr\", \"Quantity\": \"338,062 \\u2191 88,210 \"}, {\"Name\": \" Infosys Ltd (Technology)Equity, Since 30 Apr 10 | INFY\", \"Holding\": \"5%\", \"Value\": \"\\u20b99 Cr\", \"Quantity\": \"143,702 \\u2191 2,299 \"}, {\"Name\": \" Tata Consultancy Services Ltd (Technology)Equity, Since 30 Apr 10 | TCS\", \"Holding\": \"5%\", \"Value\": \"\\u20b98 Cr\", \"Quantity\": \"43,152 \\u2191 2,600 \"}, {\"Name\": \" Kotak Mahindra Bank Ltd (Financial Services)Equity, Since 31 Mar 12 | KOTAKBANK\", \"Holding\": \"4%\", \"Value\": \"\\u20b97 Cr\", \"Quantity\": \"57,832 \\u2191 6,185 \"}, {\"Name\": \" Hindustan Unilever Ltd (Consumer Defensive)Equity, Since 31 Jan 11 | 500696\", \"Holding\": \"4%\", \"Value\": \"\\u20b96 Cr\", \"Quantity\": \"28,100 \\u2191 521 \"}, {\"Name\": \" ITC Ltd (Consumer Defensive)Equity, Since 29 Feb 12 | ITC\", \"Holding\": \"4%\", \"Value\": \"\\u20b96 Cr\", \"Quantity\": \"346,492 \\u2191 9,640 \"}, {\"Name\": \" Axis Bank Ltd (Financial Services)Equity, Since 30 Apr 10 | 532215\", \"Holding\": \"3%\", \"Value\": \"\\u20b95 Cr\", \"Quantity\": \"141,843 \\u2191 55,810 \"}]}\n",
            "{\"title\": \"5. Franklin India Index Fund Nifty Plan\", \"description\": \" Franklin India Index Fund Nifty Plan is a Others - Index Fund fund was launched on 4 Aug 00. It is a fund with Moderately High risk and has given a CAGR/Annualized return of 10.8% since its launch. \\u00a0Ranked 76 in Index Fund category.  \\u00a0Return for 2019 was 12% , 2018 was 3.2% and 2017 was 28.3% . \", \"Growth_of_10000_investment_over_the_years\": [{\"Date\": \"31 Mar 15\", \"Value\": \"\\u20b910,000\"}, {\"Date\": \"31 Mar 16\", \"Value\": \"\\u20b99,161\"}, {\"Date\": \"31 Mar 17\", \"Value\": \"\\u20b910,872\"}, {\"Date\": \"31 Mar 18\", \"Value\": \"\\u20b911,972\"}, {\"Date\": \"31 Mar 19\", \"Value\": \"\\u20b913,747\"}, {\"Date\": \"31 Mar 20\", \"Value\": \"\\u20b910,223\"}], \"Returns_data\": [{\"Duration\": \"3 Month\", \"Returns\": \"-21.1%\"}, {\"Duration\": \"6 Month\", \"Returns\": \"-19.1%\"}, {\"Duration\": \"1 Year\", \"Returns\": \"-18.5%\"}, {\"Duration\": \"3 Year\", \"Returns\": \"0.9%\"}, {\"Duration\": \"5 Year\", \"Returns\": \"3.1%\"}, {\"Duration\": \"10 Year\", \"Returns\": null}, {\"Duration\": \"15 Year\", \"Returns\": null}, {\"Duration\": \"Since launch\", \"Returns\": \"10.8%\"}], \"Historical_data\": [{\"Year\": \"2018\", \"Returns\": \"3.2%\"}, {\"Year\": \"2017\", \"Returns\": \"28.3%\"}, {\"Year\": \"2016\", \"Returns\": \"3.3%\"}, {\"Year\": \"2015\", \"Returns\": \"-3.6%\"}, {\"Year\": \"2014\", \"Returns\": \"31.2%\"}, {\"Year\": \"2013\", \"Returns\": \"6.9%\"}, {\"Year\": \"2012\", \"Returns\": \"27.7%\"}, {\"Year\": \"2011\", \"Returns\": \"-24.4%\"}, {\"Year\": \"2010\", \"Returns\": \"18%\"}], \"fund_manager_Details\": [{\"Name\": \"Varun Sharma\", \"Since\": \"30 Nov 15\", \"Tenure\": \"4.09 Yr.\"}], \"Assest_Allocation_Details\": [{\"Asset_Class\": \"Equity\", \"Value\": \"98.65%\"}, {\"Asset_Class\": \"Other\", \"Value\": \"1.35%\"}], \"portfolio_Details\": [{\"Name\": \" HDFC Bank Ltd (Financial Services)Equity, Since 31 Jan 03 | HDFCBANK\", \"Holding\": \"10%\", \"Value\": \"\\u20b926 Cr\", \"Quantity\": \"301,830 \\u2191 48,139 \"}, {\"Name\": \" Reliance Industries Ltd (Energy)Equity, Since 31 Jan 03 | RELIANCE\", \"Holding\": \"10%\", \"Value\": \"\\u20b925 Cr\", \"Quantity\": \"225,166 \\u2191 36,121 \"}, {\"Name\": \" Housing Development Finance Corp Ltd (Financial Services)Equity, Since 30 Apr 09 | HDFC\", \"Holding\": \"8%\", \"Value\": \"\\u20b920 Cr\", \"Quantity\": \"120,315 \\u2191 19,270 \"}, {\"Name\": \" Infosys Ltd (Technology)Equity, Since 29 Feb 12 | INFY\", \"Holding\": \"7%\", \"Value\": \"\\u20b916 Cr\", \"Quantity\": \"255,131 \\u2191 40,565 \"}, {\"Name\": \" ICICI Bank Ltd (Financial Services)Equity, Since 31 Jan 10 | ICICIBANK\", \"Holding\": \"6%\", \"Value\": \"\\u20b915 Cr\", \"Quantity\": \"448,807 \\u2191 69,093 \"}, {\"Name\": \" Tata Consultancy Services Ltd (Technology)Equity, Since 28 Feb 05 | TCS\", \"Holding\": \"5%\", \"Value\": \"\\u20b913 Cr\", \"Quantity\": \"73,138 \\u2191 11,440 \"}, {\"Name\": \" Kotak Mahindra Bank Ltd (Financial Services)Equity, Since 31 Mar 12 | KOTAKBANK\", \"Holding\": \"5%\", \"Value\": \"\\u20b912 Cr\", \"Quantity\": \"93,112 \\u2191 14,571 \"}, {\"Name\": \" Hindustan Unilever Ltd (Consumer Defensive)Equity, Since 31 Jan 03 | 500696\", \"Holding\": \"5%\", \"Value\": \"\\u20b911 Cr\", \"Quantity\": \"49,532 \\u2191 7,676 \"}, {\"Name\": \" ITC Ltd (Consumer Defensive)Equity, Since 31 Mar 11 | ITC\", \"Holding\": \"4%\", \"Value\": \"\\u20b910 Cr\", \"Quantity\": \"604,115 \\u2191 134,272 \"}, {\"Name\": \" Larsen & Toubro Ltd (Industrials)Equity, Since 30 Jun 12 | LT\", \"Holding\": \"3%\", \"Value\": \"\\u20b97 Cr\", \"Quantity\": \"85,499 \\u2191 13,017 \"}]}\n",
            "{\"title\": \"6. SBI Nifty Index Fund\", \"description\": \" SBI Nifty Index Fund is a Others - Index Fund fund was launched on 17 Jan 02. It is a fund with Moderately High risk and has given a CAGR/Annualized return of 12.4% since its launch. \\u00a0Ranked 75 in Index Fund category.  \\u00a0Return for 2019 was 12.5% , 2018 was 3.8% and 2017 was 29.1% . \", \"Growth_of_10000_investment_over_the_years\": [{\"Date\": \"31 Mar 15\", \"Value\": \"\\u20b910,000\"}, {\"Date\": \"31 Mar 16\", \"Value\": \"\\u20b99,128\"}, {\"Date\": \"31 Mar 17\", \"Value\": \"\\u20b910,862\"}, {\"Date\": \"31 Mar 18\", \"Value\": \"\\u20b912,034\"}, {\"Date\": \"31 Mar 19\", \"Value\": \"\\u20b913,900\"}, {\"Date\": \"31 Mar 20\", \"Value\": \"\\u20b910,280\"}], \"Returns_data\": [{\"Duration\": \"3 Month\", \"Returns\": \"-21.6%\"}, {\"Duration\": \"6 Month\", \"Returns\": \"-19.5%\"}, {\"Duration\": \"1 Year\", \"Returns\": \"-18.8%\"}, {\"Duration\": \"3 Year\", \"Returns\": \"1.2%\"}, {\"Duration\": \"5 Year\", \"Returns\": \"3.3%\"}, {\"Duration\": \"10 Year\", \"Returns\": null}, {\"Duration\": \"15 Year\", \"Returns\": null}, {\"Duration\": \"Since launch\", \"Returns\": \"12.4%\"}], \"Historical_data\": [{\"Year\": \"2018\", \"Returns\": \"3.8%\"}, {\"Year\": \"2017\", \"Returns\": \"29.1%\"}, {\"Year\": \"2016\", \"Returns\": \"3.4%\"}, {\"Year\": \"2015\", \"Returns\": \"-4.2%\"}, {\"Year\": \"2014\", \"Returns\": \"30.5%\"}, {\"Year\": \"2013\", \"Returns\": \"6.2%\"}, {\"Year\": \"2012\", \"Returns\": \"28.4%\"}, {\"Year\": \"2011\", \"Returns\": \"-24.6%\"}, {\"Year\": \"2010\", \"Returns\": \"18%\"}], \"fund_manager_Details\": [{\"Name\": \"Raviprakash Sharma\", \"Since\": \"1 Feb 11\", \"Tenure\": \"8.92 Yr.\"}], \"Assest_Allocation_Details\": [{\"Asset_Class\": \"Cash\", \"Value\": \"2.95%\"}, {\"Asset_Class\": \"Equity\", \"Value\": \"97.05%\"}], \"portfolio_Details\": [{\"Name\": \" HDFC Bank Ltd (Financial Services)Equity, Since 31 Mar 03 | HDFCBANK\", \"Holding\": \"10%\", \"Value\": \"\\u20b963 Cr\", \"Quantity\": \"734,961 \\u2191 234,521 \"}, {\"Name\": \" Reliance Industries Ltd (Energy)Equity, Since 31 Jan 03 | RELIANCE\", \"Holding\": \"10%\", \"Value\": \"\\u20b961 Cr\", \"Quantity\": \"548,678 \\u2191 174,655 \"}, {\"Name\": \" Housing Development Finance Corp Ltd (Financial Services)Equity, Since 31 May 03 | HDFC\", \"Holding\": \"8%\", \"Value\": \"\\u20b948 Cr\", \"Quantity\": \"293,423 \\u2191 93,770 \"}, {\"Name\": \" Infosys Ltd (Technology)Equity, Since 31 Jan 03 | INFY\", \"Holding\": \"6%\", \"Value\": \"\\u20b940 Cr\", \"Quantity\": \"621,588 \\u2191 197,904 \"}, {\"Name\": \" ICICI Bank Ltd (Financial Services)Equity, Since 31 Jan 03 | ICICIBANK\", \"Holding\": \"6%\", \"Value\": \"\\u20b936 Cr\", \"Quantity\": \"1,098,430 \\u2191 350,180 \"}, {\"Name\": \" Treps CBLO/Reverse Repo  | -\", \"Holding\": \"6%\", \"Value\": \"\\u20b935 Cr\", \"Quantity\": \"\"}, {\"Name\": \" Tata Consultancy Services Ltd (Technology)Equity, Since 28 Feb 05 | TCS\", \"Holding\": \"5%\", \"Value\": \"\\u20b933 Cr\", \"Quantity\": \"178,310 \\u2191 56,754 \"}, {\"Name\": \" Kotak Mahindra Bank Ltd (Financial Services)Equity, Since 31 Mar 12 | KOTAKBANK\", \"Holding\": \"5%\", \"Value\": \"\\u20b929 Cr\", \"Quantity\": \"227,195 \\u2191 72,461 \"}, {\"Name\": \" Hindustan Unilever Ltd (Consumer Defensive)Equity, Since 31 Jan 03 | 500696\", \"Holding\": \"4%\", \"Value\": \"\\u20b928 Cr\", \"Quantity\": \"121,240 \\u2191 38,592 \"}, {\"Name\": \" ITC Ltd (Consumer Defensive)Equity, Since 29 Feb 12 | ITC\", \"Holding\": \"4%\", \"Value\": \"\\u20b925 Cr\", \"Quantity\": \"1,481,144 \\u2191 471,715 \"}]}\n",
            "{\"title\": \"7. IDBI Nifty Index Fund\", \"description\": \" IDBI Nifty Index Fund is a Others - Index Fund fund was launched on 25 Jun 10. It is a fund with Moderately High risk and has given a CAGR/Annualized return of 5.9% since its launch. \\u00a0Ranked 83 in Index Fund category.  \\u00a0Return for 2019 was 12.3% , 2018 was 2.8% and 2017 was 27.4% . \", \"Growth_of_10000_investment_over_the_years\": [{\"Date\": \"31 Mar 15\", \"Value\": \"\\u20b910,000\"}, {\"Date\": \"31 Mar 16\", \"Value\": \"\\u20b99,083\"}, {\"Date\": \"31 Mar 17\", \"Value\": \"\\u20b910,691\"}, {\"Date\": \"31 Mar 18\", \"Value\": \"\\u20b911,682\"}, {\"Date\": \"31 Mar 19\", \"Value\": \"\\u20b913,407\"}, {\"Date\": \"31 Mar 20\", \"Value\": \"\\u20b99,937\"}], \"Returns_data\": [{\"Duration\": \"3 Month\", \"Returns\": \"-21.3%\"}, {\"Duration\": \"6 Month\", \"Returns\": \"-19.2%\"}, {\"Duration\": \"1 Year\", \"Returns\": \"-18.6%\"}, {\"Duration\": \"3 Year\", \"Returns\": \"0.6%\"}, {\"Duration\": \"5 Year\", \"Returns\": \"2.6%\"}, {\"Duration\": \"10 Year\", \"Returns\": null}, {\"Duration\": \"15 Year\", \"Returns\": null}, {\"Duration\": \"Since launch\", \"Returns\": \"5.9%\"}], \"Historical_data\": [{\"Year\": \"2018\", \"Returns\": \"2.8%\"}, {\"Year\": \"2017\", \"Returns\": \"27.4%\"}, {\"Year\": \"2016\", \"Returns\": \"2.4%\"}, {\"Year\": \"2015\", \"Returns\": \"-4.4%\"}, {\"Year\": \"2014\", \"Returns\": \"30.8%\"}, {\"Year\": \"2013\", \"Returns\": \"7.2%\"}, {\"Year\": \"2012\", \"Returns\": \"27.7%\"}, {\"Year\": \"2011\", \"Returns\": \"-24.9%\"}, {\"Year\": \"2010\", \"Returns\": null}], \"fund_manager_Details\": [{\"Name\": \"Firdaus Ragina\", \"Since\": \"9 Oct 18\", \"Tenure\": \"1.23 Yr.\"}], \"Assest_Allocation_Details\": [{\"Asset_Class\": \"Cash\", \"Value\": \"0.33%\"}, {\"Asset_Class\": \"Equity\", \"Value\": \"99.67%\"}], \"portfolio_Details\": [{\"Name\": \" HDFC Bank Ltd (Financial Services)Equity, Since 30 Apr 11 | HDFCBANK\", \"Holding\": \"10%\", \"Value\": \"\\u20b917 Cr\", \"Quantity\": \"194,171 \\u2193 -252 \"}, {\"Name\": \" Reliance Industries Ltd (Energy)Equity, Since 30 Apr 11 | RELIANCE\", \"Holding\": \"10%\", \"Value\": \"\\u20b916 Cr\", \"Quantity\": \"144,931 \\u2193 -379 \"}, {\"Name\": \" Housing Development Finance Corp Ltd (Financial Services)Equity, Since 30 Apr 11 | HDFC\", \"Holding\": \"8%\", \"Value\": \"\\u20b913 Cr\", \"Quantity\": \"77,504 \\u2193 -62 \"}, {\"Name\": \" Infosys Ltd (Technology)Equity, Since 30 Apr 11 | INFY\", \"Holding\": \"7%\", \"Value\": \"\\u20b911 Cr\", \"Quantity\": \"164,176 \\u2193 -439 \"}, {\"Name\": \" ICICI Bank Ltd (Financial Services)Equity, Since 30 Apr 11 | ICICIBANK\", \"Holding\": \"6%\", \"Value\": \"\\u20b99 Cr\", \"Quantity\": \"290,137 \\u2193 -560 \"}, {\"Name\": \" Tata Consultancy Services Ltd (Technology)Equity, Since 30 Apr 11 | TCS\", \"Holding\": \"5%\", \"Value\": \"\\u20b99 Cr\", \"Quantity\": \"47,099 \\u2193 -126 \"}, {\"Name\": \" Kotak Mahindra Bank Ltd (Financial Services)Equity, Since 30 Apr 11 | KOTAKBANK\", \"Holding\": \"5%\", \"Value\": \"\\u20b98 Cr\", \"Quantity\": \"60,018 \\u2193 -96 \"}, {\"Name\": \" Hindustan Unilever Ltd (Consumer Defensive)Equity, Since 30 Apr 11 | 500696\", \"Holding\": \"5%\", \"Value\": \"\\u20b97 Cr\", \"Quantity\": \"32,029 \\u2193 -82 \"}, {\"Name\": \" ITC Ltd (Consumer Defensive)Equity, Since 30 Apr 11 | ITC\", \"Holding\": \"4%\", \"Value\": \"\\u20b97 Cr\", \"Quantity\": \"391,246 \\u2193 -925 \"}, {\"Name\": \" Larsen & Toubro Ltd (Industrials)Equity, Since 30 Apr 11 | LT\", \"Holding\": \"3%\", \"Value\": \"\\u20b94 Cr\", \"Quantity\": \"55,388 \\u2193 -130 \"}]}\n",
            "{\"title\": \"8. Nippon India Index Fund - Nifty Plan\", \"description\": \" Nippon India Index Fund - Nifty Plan is a Others - Index Fund fund was launched on 28 Sep 10. It is a fund with Moderately High risk and has given a CAGR/Annualized return of 5% since its launch. \\u00a0Ranked 78 in Index Fund category.  \\u00a0Return for 2019 was 12.3% , 2018 was 3.5% and 2017 was 29% . \", \"Growth_of_10000_investment_over_the_years\": [{\"Date\": \"31 Mar 15\", \"Value\": \"\\u20b910,000\"}, {\"Date\": \"31 Mar 16\", \"Value\": \"\\u20b99,120\"}, {\"Date\": \"31 Mar 17\", \"Value\": \"\\u20b910,772\"}, {\"Date\": \"31 Mar 18\", \"Value\": \"\\u20b911,899\"}, {\"Date\": \"31 Mar 19\", \"Value\": \"\\u20b913,711\"}, {\"Date\": \"31 Mar 20\", \"Value\": \"\\u20b910,181\"}], \"Returns_data\": [{\"Duration\": \"3 Month\", \"Returns\": \"-21.4%\"}, {\"Duration\": \"6 Month\", \"Returns\": \"-19.3%\"}, {\"Duration\": \"1 Year\", \"Returns\": \"-18.7%\"}, {\"Duration\": \"3 Year\", \"Returns\": \"1%\"}, {\"Duration\": \"5 Year\", \"Returns\": \"3%\"}, {\"Duration\": \"10 Year\", \"Returns\": null}, {\"Duration\": \"15 Year\", \"Returns\": null}, {\"Duration\": \"Since launch\", \"Returns\": \"5%\"}], \"Historical_data\": [{\"Year\": \"2018\", \"Returns\": \"3.5%\"}, {\"Year\": \"2017\", \"Returns\": \"29%\"}, {\"Year\": \"2016\", \"Returns\": \"2.5%\"}, {\"Year\": \"2015\", \"Returns\": \"-3.9%\"}, {\"Year\": \"2014\", \"Returns\": \"31.9%\"}, {\"Year\": \"2013\", \"Returns\": \"7.1%\"}, {\"Year\": \"2012\", \"Returns\": \"29.1%\"}, {\"Year\": \"2011\", \"Returns\": \"-24%\"}, {\"Year\": \"2010\", \"Returns\": null}], \"fund_manager_Details\": [{\"Name\": \"Mehul Dama\", \"Since\": \"6 Nov 18\", \"Tenure\": \"1.15 Yr.\"}], \"Assest_Allocation_Details\": [{\"Asset_Class\": \"Cash\", \"Value\": \"6.46%\"}, {\"Asset_Class\": \"Equity\", \"Value\": \"99.82%\"}], \"portfolio_Details\": [{\"Name\": \" HDFC Bank Ltd (Financial Services)Equity, Since 31 Oct 10 | HDFCBANK\", \"Holding\": \"10%\", \"Value\": \"\\u20b918 Cr\", \"Quantity\": \"211,028 \\u2191 71,545 \"}, {\"Name\": \" Reliance Industries Ltd (Energy)Equity, Since 31 Oct 10 | RELIANCE\", \"Holding\": \"10%\", \"Value\": \"\\u20b918 Cr\", \"Quantity\": \"157,541 \\u2191 53,293 \"}, {\"Name\": \" Housing Development Finance Corp Ltd (Financial Services)Equity, Since 31 Oct 10 | HDFC\", \"Holding\": \"8%\", \"Value\": \"\\u20b914 Cr\", \"Quantity\": \"84,250 \\u2191 28,602 \"}, {\"Name\": \" Infosys Ltd (Technology)Equity, Since 31 Oct 10 | INFY\", \"Holding\": \"7%\", \"Value\": \"\\u20b911 Cr\", \"Quantity\": \"178,475 \\u2191 60,385 \"}, {\"Name\": \" Triparty Repo CBLO/Reverse Repo  | -\", \"Holding\": \"6%\", \"Value\": \"\\u20b911 Cr\", \"Quantity\": \"\"}, {\"Name\": \" Net Current Assets Receivables  | -\", \"Holding\": \"6%\", \"Value\": \"-\\u20b911 Cr\", \"Quantity\": \"\"}, {\"Name\": \" ICICI Bank Ltd (Financial Services)Equity, Since 31 Oct 10 | ICICIBANK\", \"Holding\": \"6%\", \"Value\": \"\\u20b910 Cr\", \"Quantity\": \"315,390 \\u2191 106,836 \"}, {\"Name\": \" Tata Consultancy Services Ltd (Technology)Equity, Since 31 Oct 10 | TCS\", \"Holding\": \"5%\", \"Value\": \"\\u20b99 Cr\", \"Quantity\": \"51,197 \\u2191 17,318 \"}, {\"Name\": \" Kotak Mahindra Bank Ltd (Financial Services)Equity, Since 31 Aug 11 | KOTAKBANK\", \"Holding\": \"5%\", \"Value\": \"\\u20b98 Cr\", \"Quantity\": \"65,234 \\u2191 22,107 \"}, {\"Name\": \" Hindustan Unilever Ltd (Consumer Defensive)Equity, Since 31 Oct 10 | 500696\", \"Holding\": \"5%\", \"Value\": \"\\u20b98 Cr\", \"Quantity\": \"34,811 \\u2191 11,775 \"}]}\n",
            "{\"title\": \"9. LIC MF Index Fund Nifty\", \"description\": \" LIC MF Index Fund Nifty is a Others - Index Fund fund was launched on 14 Nov 02. It is a fund with Moderately High risk and has given a CAGR/Annualized return of 10.6% since its launch. \\u00a0Ranked 80 in Index Fund category.  \\u00a0Return for 2019 was 12.6% , 2018 was 2.6% and 2017 was 28.6% . \", \"Growth_of_10000_investment_over_the_years\": [{\"Date\": \"31 Mar 15\", \"Value\": \"\\u20b910,000\"}, {\"Date\": \"31 Mar 16\", \"Value\": \"\\u20b99,132\"}, {\"Date\": \"31 Mar 17\", \"Value\": \"\\u20b910,773\"}, {\"Date\": \"31 Mar 18\", \"Value\": \"\\u20b911,813\"}, {\"Date\": \"31 Mar 19\", \"Value\": \"\\u20b913,572\"}, {\"Date\": \"31 Mar 20\", \"Value\": \"\\u20b910,105\"}], \"Returns_data\": [{\"Duration\": \"3 Month\", \"Returns\": \"-21.2%\"}, {\"Duration\": \"6 Month\", \"Returns\": \"-18.9%\"}, {\"Duration\": \"1 Year\", \"Returns\": \"-18.2%\"}, {\"Duration\": \"3 Year\", \"Returns\": \"0.9%\"}, {\"Duration\": \"5 Year\", \"Returns\": \"2.9%\"}, {\"Duration\": \"10 Year\", \"Returns\": null}, {\"Duration\": \"15 Year\", \"Returns\": null}, {\"Duration\": \"Since launch\", \"Returns\": \"10.6%\"}], \"Historical_data\": [{\"Year\": \"2018\", \"Returns\": \"2.6%\"}, {\"Year\": \"2017\", \"Returns\": \"28.6%\"}, {\"Year\": \"2016\", \"Returns\": \"2.7%\"}, {\"Year\": \"2015\", \"Returns\": \"-4.1%\"}, {\"Year\": \"2014\", \"Returns\": \"31.1%\"}, {\"Year\": \"2013\", \"Returns\": \"6.5%\"}, {\"Year\": \"2012\", \"Returns\": \"27.7%\"}, {\"Year\": \"2011\", \"Returns\": \"-23.9%\"}, {\"Year\": \"2010\", \"Returns\": \"18.2%\"}], \"fund_manager_Details\": [{\"Name\": \"Ritu Modi\", \"Since\": \"1 Nov 19\", \"Tenure\": \"0.41 Yr.\"}], \"Assest_Allocation_Details\": [{\"Asset_Class\": \"Cash\", \"Value\": \"2.18%\"}, {\"Asset_Class\": \"Equity\", \"Value\": \"97.82%\"}], \"portfolio_Details\": [{\"Name\": \" HDFC Bank Ltd (Financial Services)Equity, Since 30 Apr 09 | HDFCBANK\", \"Holding\": \"10%\", \"Value\": \"\\u20b92 Cr\", \"Quantity\": \"22,795 \\u2191 742 \"}, {\"Name\": \" Reliance Industries Ltd (Energy)Equity, Since 31 Mar 12 | RELIANCE\", \"Holding\": \"10%\", \"Value\": \"\\u20b92 Cr\", \"Quantity\": \"16,986 \\u2191 527 \"}, {\"Name\": \" Housing Development Finance Corp Ltd (Financial Services)Equity, Since 31 Jan 03 | HDFC\", \"Holding\": \"8%\", \"Value\": \"\\u20b91 Cr\", \"Quantity\": \"9,089 \\u2191 271 \"}, {\"Name\": \" Infosys Ltd (Technology)Equity, Since 31 Jan 03 | INFY\", \"Holding\": \"6%\", \"Value\": \"\\u20b91 Cr\", \"Quantity\": \"19,273 \\u2191 552 \"}, {\"Name\": \" ICICI Bank Ltd (Financial Services)Equity, Since 30 Apr 09 | ICICIBANK\", \"Holding\": \"6%\", \"Value\": \"\\u20b91 Cr\", \"Quantity\": \"34,049 \\u2191 977 \"}, {\"Name\": \" Tata Consultancy Services Ltd (Technology)Equity, Since 31 Mar 05 | TCS\", \"Holding\": \"5%\", \"Value\": \"\\u20b91 Cr\", \"Quantity\": \"5,534 \\u2191 155 \"}, {\"Name\": \" Kotak Mahindra Bank Ltd (Financial Services)Equity, Since 30 Apr 10 | KOTAKBANK\", \"Holding\": \"5%\", \"Value\": \"\\u20b91 Cr\", \"Quantity\": \"7,040 \\u2191 201 \"}, {\"Name\": \" Hindustan Unilever Ltd (Consumer Defensive)Equity, Since 31 Oct 11 | 500696\", \"Holding\": \"5%\", \"Value\": \"\\u20b91 Cr\", \"Quantity\": \"3,764 \\u2191 110 \"}, {\"Name\": \" ITC Ltd (Consumer Defensive)Equity, Since 31 Jan 03 | ITC\", \"Holding\": \"4%\", \"Value\": \"\\u20b91 Cr\", \"Quantity\": \"45,487 \\u2191 1,617 \"}, {\"Name\": \" Treps CBLO/Reverse Repo  | -\", \"Holding\": \"3%\", \"Value\": \"\\u20b91 Cr\", \"Quantity\": \"\"}]}\n",
            "{\"title\": \"10. ICICI Prudential Nifty Next 50 Index Fund\", \"description\": \" ICICI Prudential Nifty Next 50 Index Fund is a Others - Index Fund fund was launched on 25 Jun 10. It is a fund with Moderately High risk and has given a CAGR/Annualized return of 7.8% since its launch. \\u00a0Ranked 5 in Index Fund category.  \\u00a0Return for 2019 was 0.6% , 2018 was -8.8% and 2017 was 45.7% . \", \"Growth_of_10000_investment_over_the_years\": [{\"Date\": \"31 Mar 15\", \"Value\": \"\\u20b910,000\"}, {\"Date\": \"31 Mar 16\", \"Value\": \"\\u20b99,677\"}, {\"Date\": \"31 Mar 17\", \"Value\": \"\\u20b913,035\"}, {\"Date\": \"31 Mar 18\", \"Value\": \"\\u20b914,851\"}, {\"Date\": \"31 Mar 19\", \"Value\": \"\\u20b914,714\"}, {\"Date\": \"31 Mar 20\", \"Value\": \"\\u20b910,985\"}], \"Returns_data\": [{\"Duration\": \"3 Month\", \"Returns\": \"-18.8%\"}, {\"Duration\": \"6 Month\", \"Returns\": \"-17.2%\"}, {\"Duration\": \"1 Year\", \"Returns\": \"-15.5%\"}, {\"Duration\": \"3 Year\", \"Returns\": \"-3.6%\"}, {\"Duration\": \"5 Year\", \"Returns\": \"4.5%\"}, {\"Duration\": \"10 Year\", \"Returns\": null}, {\"Duration\": \"15 Year\", \"Returns\": null}, {\"Duration\": \"Since launch\", \"Returns\": \"7.8%\"}], \"Historical_data\": [{\"Year\": \"2018\", \"Returns\": \"-8.8%\"}, {\"Year\": \"2017\", \"Returns\": \"45.7%\"}, {\"Year\": \"2016\", \"Returns\": \"7.6%\"}, {\"Year\": \"2015\", \"Returns\": \"6.2%\"}, {\"Year\": \"2014\", \"Returns\": \"43.6%\"}, {\"Year\": \"2013\", \"Returns\": \"5.4%\"}, {\"Year\": \"2012\", \"Returns\": \"44.9%\"}, {\"Year\": \"2011\", \"Returns\": \"-30.8%\"}, {\"Year\": \"2010\", \"Returns\": null}], \"fund_manager_Details\": [{\"Name\": \"Kayzad Eghlim\", \"Since\": \"25 Jun 10\", \"Tenure\": \"9.52 Yr.\"}], \"Assest_Allocation_Details\": [{\"Asset_Class\": \"Cash\", \"Value\": \"0.19%\"}, {\"Asset_Class\": \"Equity\", \"Value\": \"99.81%\"}], \"portfolio_Details\": [{\"Name\": \" Avenue Supermarts Ltd (Consumer Defensive)Equity, Since 30 Sep 17 | 540376\", \"Holding\": \"6%\", \"Value\": \"\\u20b934 Cr\", \"Quantity\": \"156,297 \\u2191 26,467 \"}, {\"Name\": \" Dabur India Ltd (Consumer Defensive)Equity, Since 31 Oct 11 | 500096\", \"Holding\": \"5%\", \"Value\": \"\\u20b927 Cr\", \"Quantity\": \"606,980 \\u2191 108,582 \"}, {\"Name\": \" Divi's Laboratories Ltd (Healthcare)Equity, Since 31 Mar 19 | DIVISLAB\", \"Holding\": \"5%\", \"Value\": \"\\u20b927 Cr\", \"Quantity\": \"135,606 \\u2191 22,745 \"}, {\"Name\": \" HDFC Life Insurance Co Ltd (Financial Services)Equity, Since 30 Sep 18 | 540777\", \"Holding\": \"4%\", \"Value\": \"\\u20b926 Cr\", \"Quantity\": \"594,574 \\u2191 76,244 \"}, {\"Name\": \" SBI Life Insurance Co Ltd (Financial Services)Equity, Since 31 Mar 18 | 540719\", \"Holding\": \"4%\", \"Value\": \"\\u20b925 Cr\", \"Quantity\": \"383,900 \\u2191 59,347 \"}, {\"Name\": \" ICICI Lombard General Insurance Co Ltd (Financial Services)Equity, Since 30 Sep 18 | 540716\", \"Holding\": \"4%\", \"Value\": \"\\u20b922 Cr\", \"Quantity\": \"207,938 \\u2191 33,760 \"}, {\"Name\": \" Pidilite Industries Ltd (Basic Materials)Equity, Since 30 Apr 16 | PIDILITIND\", \"Holding\": \"4%\", \"Value\": \"\\u20b922 Cr\", \"Quantity\": \"161,317 \\u2191 26,042 \"}, {\"Name\": \" Godrej Consumer Products Ltd (Consumer Defensive)Equity, Since 30 Sep 12 | 532424\", \"Holding\": \"3%\", \"Value\": \"\\u20b921 Cr\", \"Quantity\": \"396,810 \\u2191 67,972 \"}, {\"Name\": \" Colgate-Palmolive (India) Ltd (Consumer Defensive)Equity, Since 31 Mar 12 | 500830\", \"Holding\": \"3%\", \"Value\": \"\\u20b918 Cr\", \"Quantity\": \"139,811 \\u2191 23,626 \"}, {\"Name\": \" Petronet LNG Ltd (Energy)Equity, Since 31 Mar 17 | 532522\", \"Holding\": \"3%\", \"Value\": \"\\u20b916 Cr\", \"Quantity\": \"788,751 \\u2191 135,728 \"}]}\n",
            "\n"
          ],
          "name": "stdout"
        }
      ]
    },
    {
      "cell_type": "code",
      "metadata": {
        "id": "FXip29UiAHoO",
        "colab_type": "code",
        "colab": {}
      },
      "source": [
        "# saving to a file \n",
        "f = open(\"demofile2.json\", \"w+\")\n",
        "f.write(newline_string)\n",
        "f.close()"
      ],
      "execution_count": 0,
      "outputs": []
    },
    {
      "cell_type": "code",
      "metadata": {
        "id": "v-NoEqcnAHl3",
        "colab_type": "code",
        "colab": {}
      },
      "source": [
        "import pandas as pd  "
      ],
      "execution_count": 0,
      "outputs": []
    },
    {
      "cell_type": "code",
      "metadata": {
        "id": "4ekPQJeib27V",
        "colab_type": "code",
        "colab": {}
      },
      "source": [
        "# Creates DataFrame.  \n",
        "df = pd.DataFrame(final_output) "
      ],
      "execution_count": 0,
      "outputs": []
    },
    {
      "cell_type": "code",
      "metadata": {
        "id": "jkP6bwaTb24f",
        "colab_type": "code",
        "outputId": "6d16044a-b479-416b-d85a-497fdd916baa",
        "colab": {
          "base_uri": "https://localhost:8080/",
          "height": 974
        }
      },
      "source": [
        "df"
      ],
      "execution_count": 58,
      "outputs": [
        {
          "output_type": "execute_result",
          "data": {
            "text/html": [
              "<div>\n",
              "<style scoped>\n",
              "    .dataframe tbody tr th:only-of-type {\n",
              "        vertical-align: middle;\n",
              "    }\n",
              "\n",
              "    .dataframe tbody tr th {\n",
              "        vertical-align: top;\n",
              "    }\n",
              "\n",
              "    .dataframe thead th {\n",
              "        text-align: right;\n",
              "    }\n",
              "</style>\n",
              "<table border=\"1\" class=\"dataframe\">\n",
              "  <thead>\n",
              "    <tr style=\"text-align: right;\">\n",
              "      <th></th>\n",
              "      <th>title</th>\n",
              "      <th>description</th>\n",
              "      <th>key_information</th>\n",
              "      <th>Growth_of_10000_investment_over_the_years</th>\n",
              "      <th>Returns_data</th>\n",
              "      <th>Historical_data</th>\n",
              "      <th>fund_manager_Details</th>\n",
              "      <th>Assest_Allocation_Details</th>\n",
              "      <th>portfolio_Details</th>\n",
              "    </tr>\n",
              "  </thead>\n",
              "  <tbody>\n",
              "    <tr>\n",
              "      <th>0</th>\n",
              "      <td>Principal Nifty 100 Equal Weight Fund</td>\n",
              "      <td>Principal Nifty 100 Equal Weight Fund is a Ot...</td>\n",
              "      <td>{'Launch Date ': ' 27 Jul 99 ', 'NAV (29 Apr 2...</td>\n",
              "      <td>[{'Date': '31 Mar 15', 'Value': '₹10,000'}, {'...</td>\n",
              "      <td>[{'Duration': '3 Month', 'Returns': '-22.6%'},...</td>\n",
              "      <td>[{'Year': '2018', 'Returns': '-3.4%'}, {'Year'...</td>\n",
              "      <td>[{'Name': 'Rajat Jain', 'Since': '21 Aug 15', ...</td>\n",
              "      <td>[{'Asset_Class': 'Cash', 'Value': '0.79%'}, {'...</td>\n",
              "      <td>[{'Name': ' The New India Assurance Co Ltd (Fi...</td>\n",
              "    </tr>\n",
              "    <tr>\n",
              "      <th>1</th>\n",
              "      <td>ICICI Prudential Nifty Index Fund</td>\n",
              "      <td>ICICI Prudential Nifty Index Fund is a Others...</td>\n",
              "      <td>{'Launch Date ': ' 26 Feb 02 ', 'NAV (29 Apr 2...</td>\n",
              "      <td>[{'Date': '31 Mar 15', 'Value': '₹10,000'}, {'...</td>\n",
              "      <td>[{'Duration': '3 Month', 'Returns': '-21.1%'},...</td>\n",
              "      <td>[{'Year': '2018', 'Returns': '3.4%'}, {'Year':...</td>\n",
              "      <td>[{'Name': 'Kayzad Eghlim', 'Since': '1 Aug 09'...</td>\n",
              "      <td>[{'Asset_Class': 'Cash', 'Value': '0.98%'}, {'...</td>\n",
              "      <td>[{'Name': ' Reliance Industries Ltd (Energy)Eq...</td>\n",
              "    </tr>\n",
              "    <tr>\n",
              "      <th>2</th>\n",
              "      <td>UTI Nifty Index Fund</td>\n",
              "      <td>UTI Nifty Index Fund is a Others - Index Fund...</td>\n",
              "      <td>{'Launch Date ': ' 6 Mar 00 ', 'NAV (29 Apr 20...</td>\n",
              "      <td>[{'Date': '31 Mar 15', 'Value': '₹10,000'}, {'...</td>\n",
              "      <td>[{'Duration': '3 Month', 'Returns': '-21.3%'},...</td>\n",
              "      <td>[{'Year': '2018', 'Returns': '4.3%'}, {'Year':...</td>\n",
              "      <td>[{'Name': 'Sharwan Kumar Goyal', 'Since': '1 M...</td>\n",
              "      <td>[{'Asset_Class': 'Equity', 'Value': '100.19%'}]</td>\n",
              "      <td>[{'Name': ' HDFC Bank Ltd (Financial Services)...</td>\n",
              "    </tr>\n",
              "    <tr>\n",
              "      <th>3</th>\n",
              "      <td>IDFC Nifty Fund</td>\n",
              "      <td>IDFC Nifty Fund is a Others - Index Fund fund...</td>\n",
              "      <td>{'Launch Date ': ' 30 Apr 10 ', 'NAV (29 Apr 2...</td>\n",
              "      <td>[{'Date': '31 Mar 15', 'Value': '₹10,000'}, {'...</td>\n",
              "      <td>[{'Duration': '3 Month', 'Returns': '-20.4%'},...</td>\n",
              "      <td>[{'Year': '2018', 'Returns': '4.4%'}, {'Year':...</td>\n",
              "      <td>[{'Name': 'Arpit Kapoor', 'Since': '1 Mar 17',...</td>\n",
              "      <td>[{'Asset_Class': 'Cash', 'Value': '0.62%'}, {'...</td>\n",
              "      <td>[{'Name': ' HDFC Bank Ltd (Financial Services)...</td>\n",
              "    </tr>\n",
              "    <tr>\n",
              "      <th>4</th>\n",
              "      <td>Franklin India Index Fund Nifty Plan</td>\n",
              "      <td>Franklin India Index Fund Nifty Plan is a Oth...</td>\n",
              "      <td>{'Launch Date ': ' 4 Aug 00 ', 'NAV (29 Apr 20...</td>\n",
              "      <td>[{'Date': '31 Mar 15', 'Value': '₹10,000'}, {'...</td>\n",
              "      <td>[{'Duration': '3 Month', 'Returns': '-21.1%'},...</td>\n",
              "      <td>[{'Year': '2018', 'Returns': '3.2%'}, {'Year':...</td>\n",
              "      <td>[{'Name': 'Varun Sharma', 'Since': '30 Nov 15'...</td>\n",
              "      <td>[{'Asset_Class': 'Equity', 'Value': '98.65%'},...</td>\n",
              "      <td>[{'Name': ' HDFC Bank Ltd (Financial Services)...</td>\n",
              "    </tr>\n",
              "    <tr>\n",
              "      <th>5</th>\n",
              "      <td>SBI Nifty Index Fund</td>\n",
              "      <td>SBI Nifty Index Fund is a Others - Index Fund...</td>\n",
              "      <td>{'Launch Date ': ' 17 Jan 02 ', 'NAV (29 Apr 2...</td>\n",
              "      <td>[{'Date': '31 Mar 15', 'Value': '₹10,000'}, {'...</td>\n",
              "      <td>[{'Duration': '3 Month', 'Returns': '-21.6%'},...</td>\n",
              "      <td>[{'Year': '2018', 'Returns': '3.8%'}, {'Year':...</td>\n",
              "      <td>[{'Name': 'Raviprakash Sharma', 'Since': '1 Fe...</td>\n",
              "      <td>[{'Asset_Class': 'Cash', 'Value': '2.95%'}, {'...</td>\n",
              "      <td>[{'Name': ' HDFC Bank Ltd (Financial Services)...</td>\n",
              "    </tr>\n",
              "    <tr>\n",
              "      <th>6</th>\n",
              "      <td>IDBI Nifty Index Fund</td>\n",
              "      <td>IDBI Nifty Index Fund is a Others - Index Fun...</td>\n",
              "      <td>{'Launch Date ': ' 25 Jun 10 ', 'NAV (29 Apr 2...</td>\n",
              "      <td>[{'Date': '31 Mar 15', 'Value': '₹10,000'}, {'...</td>\n",
              "      <td>[{'Duration': '3 Month', 'Returns': '-21.3%'},...</td>\n",
              "      <td>[{'Year': '2018', 'Returns': '2.8%'}, {'Year':...</td>\n",
              "      <td>[{'Name': 'Firdaus Ragina', 'Since': '9 Oct 18...</td>\n",
              "      <td>[{'Asset_Class': 'Cash', 'Value': '0.33%'}, {'...</td>\n",
              "      <td>[{'Name': ' HDFC Bank Ltd (Financial Services)...</td>\n",
              "    </tr>\n",
              "    <tr>\n",
              "      <th>7</th>\n",
              "      <td>Nippon India Index Fund - Nifty Plan</td>\n",
              "      <td>Nippon India Index Fund - Nifty Plan is a Oth...</td>\n",
              "      <td>{'Launch Date ': ' 28 Sep 10 ', 'NAV (29 Apr 2...</td>\n",
              "      <td>[{'Date': '31 Mar 15', 'Value': '₹10,000'}, {'...</td>\n",
              "      <td>[{'Duration': '3 Month', 'Returns': '-21.4%'},...</td>\n",
              "      <td>[{'Year': '2018', 'Returns': '3.5%'}, {'Year':...</td>\n",
              "      <td>[{'Name': 'Mehul Dama', 'Since': '6 Nov 18', '...</td>\n",
              "      <td>[{'Asset_Class': 'Cash', 'Value': '6.46%'}, {'...</td>\n",
              "      <td>[{'Name': ' HDFC Bank Ltd (Financial Services)...</td>\n",
              "    </tr>\n",
              "    <tr>\n",
              "      <th>8</th>\n",
              "      <td>LIC MF Index Fund Nifty</td>\n",
              "      <td>LIC MF Index Fund Nifty is a Others - Index F...</td>\n",
              "      <td>{'Launch Date ': ' 14 Nov 02 ', 'NAV (29 Apr 2...</td>\n",
              "      <td>[{'Date': '31 Mar 15', 'Value': '₹10,000'}, {'...</td>\n",
              "      <td>[{'Duration': '3 Month', 'Returns': '-21.2%'},...</td>\n",
              "      <td>[{'Year': '2018', 'Returns': '2.6%'}, {'Year':...</td>\n",
              "      <td>[{'Name': 'Ritu Modi', 'Since': '1 Nov 19', 'T...</td>\n",
              "      <td>[{'Asset_Class': 'Cash', 'Value': '2.18%'}, {'...</td>\n",
              "      <td>[{'Name': ' HDFC Bank Ltd (Financial Services)...</td>\n",
              "    </tr>\n",
              "    <tr>\n",
              "      <th>9</th>\n",
              "      <td>ICICI Prudential Nifty Next 50 Index Fund</td>\n",
              "      <td>ICICI Prudential Nifty Next 50 Index Fund is ...</td>\n",
              "      <td>{'Launch Date ': ' 25 Jun 10 ', 'NAV (29 Apr 2...</td>\n",
              "      <td>[{'Date': '31 Mar 15', 'Value': '₹10,000'}, {'...</td>\n",
              "      <td>[{'Duration': '3 Month', 'Returns': '-18.8%'},...</td>\n",
              "      <td>[{'Year': '2018', 'Returns': '-8.8%'}, {'Year'...</td>\n",
              "      <td>[{'Name': 'Kayzad Eghlim', 'Since': '25 Jun 10...</td>\n",
              "      <td>[{'Asset_Class': 'Cash', 'Value': '0.19%'}, {'...</td>\n",
              "      <td>[{'Name': ' Avenue Supermarts Ltd (Consumer De...</td>\n",
              "    </tr>\n",
              "  </tbody>\n",
              "</table>\n",
              "</div>"
            ],
            "text/plain": [
              "                                        title  ...                                  portfolio_Details\n",
              "0       Principal Nifty 100 Equal Weight Fund  ...  [{'Name': ' The New India Assurance Co Ltd (Fi...\n",
              "1           ICICI Prudential Nifty Index Fund  ...  [{'Name': ' Reliance Industries Ltd (Energy)Eq...\n",
              "2                        UTI Nifty Index Fund  ...  [{'Name': ' HDFC Bank Ltd (Financial Services)...\n",
              "3                             IDFC Nifty Fund  ...  [{'Name': ' HDFC Bank Ltd (Financial Services)...\n",
              "4        Franklin India Index Fund Nifty Plan  ...  [{'Name': ' HDFC Bank Ltd (Financial Services)...\n",
              "5                        SBI Nifty Index Fund  ...  [{'Name': ' HDFC Bank Ltd (Financial Services)...\n",
              "6                       IDBI Nifty Index Fund  ...  [{'Name': ' HDFC Bank Ltd (Financial Services)...\n",
              "7        Nippon India Index Fund - Nifty Plan  ...  [{'Name': ' HDFC Bank Ltd (Financial Services)...\n",
              "8                     LIC MF Index Fund Nifty  ...  [{'Name': ' HDFC Bank Ltd (Financial Services)...\n",
              "9   ICICI Prudential Nifty Next 50 Index Fund  ...  [{'Name': ' Avenue Supermarts Ltd (Consumer De...\n",
              "\n",
              "[10 rows x 9 columns]"
            ]
          },
          "metadata": {
            "tags": []
          },
          "execution_count": 58
        }
      ]
    }
  ]
}